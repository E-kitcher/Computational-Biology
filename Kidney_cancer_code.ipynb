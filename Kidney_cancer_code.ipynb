{
 "cells": [
  {
   "cell_type": "code",
   "execution_count": 1,
   "metadata": {},
   "outputs": [],
   "source": [
    "import xenaPython as xena  \n",
    "import pandas as pd\n",
    "import numpy as np\n",
    "import matplotlib.pyplot as plt\n",
    "# Which features are most important in predicting cancer types"
   ]
  },
  {
   "cell_type": "code",
   "execution_count": 2,
   "metadata": {},
   "outputs": [],
   "source": [
    "# update 1, \n",
    "# use link which has gtx so we can compare between tumor and non tumor.\n",
    "# follow the documentation to get even more info for filtering.\n",
    "# Testies and Ovaries still seem possible, might also be able to combine further. \n",
    "\n",
    "# thoughts : try to use the filtering to get all the rows I need and take them from the required datasets i.e :\n",
    "# Once I have them, combine them in some way to see how the data splits it\n",
    "# will I need to combine rows? or have double rows?"
   ]
  },
  {
   "cell_type": "code",
   "execution_count": 3,
   "metadata": {},
   "outputs": [],
   "source": [
    "# update 2\n",
    "# I have a way of getting the data, i just need to put it into a useable from see 'transponse with np array'\n",
    "# below is the data url \n",
    "# # https://xenabrowser.net/datapages/?dataset=TCGA-GTEx-TARGET-gene-exp-counts.deseq2-normalized.log2&host=https%3A%2F%2Ftoil.xenahubs.net&addHub=https%3A%2F%2Ftreehouse.xenahubs.net&removeHub=https%3A%2F%2Fxena.treehouse.gi.ucsc.edu%3A443"
   ]
  },
  {
   "cell_type": "code",
   "execution_count": 4,
   "metadata": {},
   "outputs": [],
   "source": [
    "# Questions?\n",
    "# Do I need to combine multiple data sets from different types of cancers but make sure they have the same columns?\n",
    "# How would that even work?\n"
   ]
  },
  {
   "cell_type": "code",
   "execution_count": 5,
   "metadata": {},
   "outputs": [],
   "source": [
    "# help(xena) Quite useful function "
   ]
  },
  {
   "cell_type": "markdown",
   "metadata": {},
   "source": [
    "# Kidney Cancer"
   ]
  },
  {
   "cell_type": "code",
   "execution_count": 1,
   "metadata": {},
   "outputs": [],
   "source": [
    "# 0 = normal\n",
    "# 1 = chromophobe\n",
    "# 2 = clear cell carcinoma \n",
    "# 3 = papillary "
   ]
  },
  {
   "cell_type": "code",
   "execution_count": 10,
   "metadata": {
    "scrolled": true
   },
   "outputs": [
    {
     "data": {
      "text/html": [
       "<div>\n",
       "<style scoped>\n",
       "    .dataframe tbody tr th:only-of-type {\n",
       "        vertical-align: middle;\n",
       "    }\n",
       "\n",
       "    .dataframe tbody tr th {\n",
       "        vertical-align: top;\n",
       "    }\n",
       "\n",
       "    .dataframe thead th {\n",
       "        text-align: right;\n",
       "    }\n",
       "</style>\n",
       "<table border=\"1\" class=\"dataframe\">\n",
       "  <thead>\n",
       "    <tr style=\"text-align: right;\">\n",
       "      <th></th>\n",
       "      <th>sample</th>\n",
       "      <th>samples</th>\n",
       "      <th>_study</th>\n",
       "      <th>_sample_type</th>\n",
       "      <th>_primary_site</th>\n",
       "      <th>target</th>\n",
       "    </tr>\n",
       "  </thead>\n",
       "  <tbody>\n",
       "    <tr>\n",
       "      <th>0</th>\n",
       "      <td>TCGA-A3-3358-11</td>\n",
       "      <td>TCGA-A3-3358-11</td>\n",
       "      <td>TCGA</td>\n",
       "      <td>Solid Tissue Normal</td>\n",
       "      <td>Kidney</td>\n",
       "      <td>0</td>\n",
       "    </tr>\n",
       "    <tr>\n",
       "      <th>1</th>\n",
       "      <td>TCGA-A3-3387-11</td>\n",
       "      <td>TCGA-A3-3387-11</td>\n",
       "      <td>TCGA</td>\n",
       "      <td>Solid Tissue Normal</td>\n",
       "      <td>Kidney</td>\n",
       "      <td>0</td>\n",
       "    </tr>\n",
       "    <tr>\n",
       "      <th>2</th>\n",
       "      <td>TCGA-A4-A4ZT-11</td>\n",
       "      <td>TCGA-A4-A4ZT-11</td>\n",
       "      <td>TCGA</td>\n",
       "      <td>Solid Tissue Normal</td>\n",
       "      <td>Kidney</td>\n",
       "      <td>0</td>\n",
       "    </tr>\n",
       "    <tr>\n",
       "      <th>3</th>\n",
       "      <td>TCGA-A4-A57E-11</td>\n",
       "      <td>TCGA-A4-A57E-11</td>\n",
       "      <td>TCGA</td>\n",
       "      <td>Solid Tissue Normal</td>\n",
       "      <td>Kidney</td>\n",
       "      <td>0</td>\n",
       "    </tr>\n",
       "    <tr>\n",
       "      <th>4</th>\n",
       "      <td>TCGA-B0-4700-11</td>\n",
       "      <td>TCGA-B0-4700-11</td>\n",
       "      <td>TCGA</td>\n",
       "      <td>Solid Tissue Normal</td>\n",
       "      <td>Kidney</td>\n",
       "      <td>0</td>\n",
       "    </tr>\n",
       "  </tbody>\n",
       "</table>\n",
       "</div>"
      ],
      "text/plain": [
       "            sample          samples _study         _sample_type _primary_site  \\\n",
       "0  TCGA-A3-3358-11  TCGA-A3-3358-11   TCGA  Solid Tissue Normal        Kidney   \n",
       "1  TCGA-A3-3387-11  TCGA-A3-3387-11   TCGA  Solid Tissue Normal        Kidney   \n",
       "2  TCGA-A4-A4ZT-11  TCGA-A4-A4ZT-11   TCGA  Solid Tissue Normal        Kidney   \n",
       "3  TCGA-A4-A57E-11  TCGA-A4-A57E-11   TCGA  Solid Tissue Normal        Kidney   \n",
       "4  TCGA-B0-4700-11  TCGA-B0-4700-11   TCGA  Solid Tissue Normal        Kidney   \n",
       "\n",
       "   target  \n",
       "0       0  \n",
       "1       0  \n",
       "2       0  \n",
       "3       0  \n",
       "4       0  "
      ]
     },
     "execution_count": 10,
     "metadata": {},
     "output_type": "execute_result"
    }
   ],
   "source": [
    "df_kid =  pd.read_csv('kidney_info.csv')\n",
    "df_kid = df_kid.rename(columns = {'TCGA_GTEX_main_category': 'target'})\n",
    "df_kid.head()"
   ]
  },
  {
   "cell_type": "code",
   "execution_count": 11,
   "metadata": {},
   "outputs": [],
   "source": [
    "kidney_samples = list(df_kid['sample']) # get a list of all the samples "
   ]
  },
  {
   "cell_type": "code",
   "execution_count": null,
   "metadata": {},
   "outputs": [],
   "source": [
    "targets = list(df_kid['target'])\n",
    "count0 = 0\n",
    "count1 = 0\n",
    "count2 = 0\n",
    "count3 = 0\n",
    "for i in range(len(targets)):\n",
    "    if targets[i] == 0:\n",
    "        count0 += 1\n",
    "    if targets[i] == 1:\n",
    "        count1 += 1\n",
    "    if targets[i] == 2:\n",
    "        count2 += 1\n",
    "    if targets[i] == 3:\n",
    "        count3 += 1\n",
    "    \n",
    "print(count0,count1,count2,count3)"
   ]
  },
  {
   "cell_type": "code",
   "execution_count": 27,
   "metadata": {},
   "outputs": [],
   "source": [
    "# so what I need to do now is get the ENSG data from the website using the sample list"
   ]
  },
  {
   "cell_type": "code",
   "execution_count": 33,
   "metadata": {},
   "outputs": [],
   "source": [
    "cohort = 'TCGA TARGET GTEx'\n",
    "host = xena.PUBLIC_HUBS['toilHub']\n",
    "\n",
    "# This should remain the same for all investigations\n",
    "\n",
    "dataset_name = 'TCGA-GTEx-TARGET-gene-exp-counts.deseq2-normalized.log2' # will need to change for NORM_COUNT\n",
    "# very big dataset "
   ]
  },
  {
   "cell_type": "code",
   "execution_count": 34,
   "metadata": {},
   "outputs": [],
   "source": [
    "text_file = open(\"all_probes_expected.txt\", \"r\")\n",
    "lines = text_file.read().split('\\n')\n",
    "text_file.close()\n",
    "kidney_probes = lines"
   ]
  },
  {
   "cell_type": "code",
   "execution_count": 296,
   "metadata": {},
   "outputs": [],
   "source": [
    "def xena_fetch_to_nparray(host, dataset_name, samples, probes,k):\n",
    "    list_of_arrays = []\n",
    "    for i in range(k): # 61 for kidney\n",
    "        array = np.array(xena.dataset_fetch(host, dataset_name, samples, probes[i*1000:(i+1)*1000] ) )\n",
    "        list_of_arrays += [array]\n",
    "    return list_of_arrays      "
   ]
  },
  {
   "cell_type": "code",
   "execution_count": 83,
   "metadata": {},
   "outputs": [],
   "source": [
    "new_a = np.concatenate((arrays[0], arrays[1]), axis=0)\n",
    "for i in range(2, len(arrays)): \n",
    "    new_a = np.concatenate((new_a ,   arrays[i]))\n",
    "new_a = np.vstack([new_a,kidney_target])"
   ]
  },
  {
   "cell_type": "code",
   "execution_count": 85,
   "metadata": {
    "scrolled": true
   },
   "outputs": [
    {
     "data": {
      "text/html": [
       "<div>\n",
       "<style scoped>\n",
       "    .dataframe tbody tr th:only-of-type {\n",
       "        vertical-align: middle;\n",
       "    }\n",
       "\n",
       "    .dataframe tbody tr th {\n",
       "        vertical-align: top;\n",
       "    }\n",
       "\n",
       "    .dataframe thead th {\n",
       "        text-align: right;\n",
       "    }\n",
       "</style>\n",
       "<table border=\"1\" class=\"dataframe\">\n",
       "  <thead>\n",
       "    <tr style=\"text-align: right;\">\n",
       "      <th></th>\n",
       "      <th>ENSG00000000003.14</th>\n",
       "      <th>ENSG00000000005.5</th>\n",
       "      <th>ENSG00000000419.12</th>\n",
       "      <th>ENSG00000000457.13</th>\n",
       "      <th>ENSG00000000460.16</th>\n",
       "      <th>ENSG00000000938.12</th>\n",
       "      <th>ENSG00000000971.15</th>\n",
       "      <th>ENSG00000001036.13</th>\n",
       "      <th>ENSG00000001084.10</th>\n",
       "      <th>ENSG00000001167.14</th>\n",
       "      <th>...</th>\n",
       "      <th>ENSGR0000264510.5</th>\n",
       "      <th>ENSGR0000264819.5</th>\n",
       "      <th>ENSGR0000265658.5</th>\n",
       "      <th>ENSGR0000270726.5</th>\n",
       "      <th>ENSGR0000275287.4</th>\n",
       "      <th>ENSGR0000276543.4</th>\n",
       "      <th>ENSGR0000277120.4</th>\n",
       "      <th>ENSGR0000280767.2</th>\n",
       "      <th>ENSGR0000281849.2</th>\n",
       "      <th>Target</th>\n",
       "    </tr>\n",
       "  </thead>\n",
       "  <tbody>\n",
       "    <tr>\n",
       "      <th>0</th>\n",
       "      <td>11.85</td>\n",
       "      <td>4.263</td>\n",
       "      <td>9.846</td>\n",
       "      <td>9.279</td>\n",
       "      <td>6.644</td>\n",
       "      <td>7.561</td>\n",
       "      <td>9.849</td>\n",
       "      <td>11.49</td>\n",
       "      <td>10.560</td>\n",
       "      <td>9.167</td>\n",
       "      <td>...</td>\n",
       "      <td>0.0</td>\n",
       "      <td>0.0</td>\n",
       "      <td>0.0</td>\n",
       "      <td>0.0</td>\n",
       "      <td>0.0</td>\n",
       "      <td>0.0</td>\n",
       "      <td>0.0</td>\n",
       "      <td>0.0</td>\n",
       "      <td>0.0</td>\n",
       "      <td>0.0</td>\n",
       "    </tr>\n",
       "    <tr>\n",
       "      <th>1</th>\n",
       "      <td>10.99</td>\n",
       "      <td>5.745</td>\n",
       "      <td>9.317</td>\n",
       "      <td>8.845</td>\n",
       "      <td>5.612</td>\n",
       "      <td>7.028</td>\n",
       "      <td>10.280</td>\n",
       "      <td>11.36</td>\n",
       "      <td>10.720</td>\n",
       "      <td>9.005</td>\n",
       "      <td>...</td>\n",
       "      <td>0.0</td>\n",
       "      <td>0.0</td>\n",
       "      <td>0.0</td>\n",
       "      <td>0.0</td>\n",
       "      <td>0.0</td>\n",
       "      <td>0.0</td>\n",
       "      <td>0.0</td>\n",
       "      <td>0.0</td>\n",
       "      <td>0.0</td>\n",
       "      <td>0.0</td>\n",
       "    </tr>\n",
       "    <tr>\n",
       "      <th>2</th>\n",
       "      <td>12.41</td>\n",
       "      <td>4.251</td>\n",
       "      <td>9.633</td>\n",
       "      <td>9.339</td>\n",
       "      <td>6.641</td>\n",
       "      <td>7.457</td>\n",
       "      <td>9.197</td>\n",
       "      <td>11.52</td>\n",
       "      <td>9.333</td>\n",
       "      <td>9.694</td>\n",
       "      <td>...</td>\n",
       "      <td>0.0</td>\n",
       "      <td>0.0</td>\n",
       "      <td>0.0</td>\n",
       "      <td>0.0</td>\n",
       "      <td>0.0</td>\n",
       "      <td>0.0</td>\n",
       "      <td>0.0</td>\n",
       "      <td>0.0</td>\n",
       "      <td>0.0</td>\n",
       "      <td>0.0</td>\n",
       "    </tr>\n",
       "    <tr>\n",
       "      <th>3</th>\n",
       "      <td>12.15</td>\n",
       "      <td>6.136</td>\n",
       "      <td>9.937</td>\n",
       "      <td>9.241</td>\n",
       "      <td>6.917</td>\n",
       "      <td>8.537</td>\n",
       "      <td>10.760</td>\n",
       "      <td>11.21</td>\n",
       "      <td>9.552</td>\n",
       "      <td>9.133</td>\n",
       "      <td>...</td>\n",
       "      <td>0.0</td>\n",
       "      <td>0.0</td>\n",
       "      <td>0.0</td>\n",
       "      <td>0.0</td>\n",
       "      <td>0.0</td>\n",
       "      <td>0.0</td>\n",
       "      <td>0.0</td>\n",
       "      <td>0.0</td>\n",
       "      <td>0.0</td>\n",
       "      <td>0.0</td>\n",
       "    </tr>\n",
       "    <tr>\n",
       "      <th>4</th>\n",
       "      <td>11.26</td>\n",
       "      <td>5.073</td>\n",
       "      <td>9.477</td>\n",
       "      <td>9.253</td>\n",
       "      <td>6.484</td>\n",
       "      <td>6.902</td>\n",
       "      <td>11.520</td>\n",
       "      <td>11.27</td>\n",
       "      <td>10.480</td>\n",
       "      <td>9.353</td>\n",
       "      <td>...</td>\n",
       "      <td>0.0</td>\n",
       "      <td>0.0</td>\n",
       "      <td>0.0</td>\n",
       "      <td>0.0</td>\n",
       "      <td>0.0</td>\n",
       "      <td>0.0</td>\n",
       "      <td>0.0</td>\n",
       "      <td>0.0</td>\n",
       "      <td>0.0</td>\n",
       "      <td>0.0</td>\n",
       "    </tr>\n",
       "  </tbody>\n",
       "</table>\n",
       "<p>5 rows × 60499 columns</p>\n",
       "</div>"
      ],
      "text/plain": [
       "   ENSG00000000003.14  ENSG00000000005.5  ENSG00000000419.12  \\\n",
       "0               11.85              4.263               9.846   \n",
       "1               10.99              5.745               9.317   \n",
       "2               12.41              4.251               9.633   \n",
       "3               12.15              6.136               9.937   \n",
       "4               11.26              5.073               9.477   \n",
       "\n",
       "   ENSG00000000457.13  ENSG00000000460.16  ENSG00000000938.12  \\\n",
       "0               9.279               6.644               7.561   \n",
       "1               8.845               5.612               7.028   \n",
       "2               9.339               6.641               7.457   \n",
       "3               9.241               6.917               8.537   \n",
       "4               9.253               6.484               6.902   \n",
       "\n",
       "   ENSG00000000971.15  ENSG00000001036.13  ENSG00000001084.10  \\\n",
       "0               9.849               11.49              10.560   \n",
       "1              10.280               11.36              10.720   \n",
       "2               9.197               11.52               9.333   \n",
       "3              10.760               11.21               9.552   \n",
       "4              11.520               11.27              10.480   \n",
       "\n",
       "   ENSG00000001167.14  ...  ENSGR0000264510.5  ENSGR0000264819.5  \\\n",
       "0               9.167  ...                0.0                0.0   \n",
       "1               9.005  ...                0.0                0.0   \n",
       "2               9.694  ...                0.0                0.0   \n",
       "3               9.133  ...                0.0                0.0   \n",
       "4               9.353  ...                0.0                0.0   \n",
       "\n",
       "   ENSGR0000265658.5  ENSGR0000270726.5  ENSGR0000275287.4  ENSGR0000276543.4  \\\n",
       "0                0.0                0.0                0.0                0.0   \n",
       "1                0.0                0.0                0.0                0.0   \n",
       "2                0.0                0.0                0.0                0.0   \n",
       "3                0.0                0.0                0.0                0.0   \n",
       "4                0.0                0.0                0.0                0.0   \n",
       "\n",
       "   ENSGR0000277120.4  ENSGR0000280767.2  ENSGR0000281849.2  Target  \n",
       "0                0.0                0.0                0.0     0.0  \n",
       "1                0.0                0.0                0.0     0.0  \n",
       "2                0.0                0.0                0.0     0.0  \n",
       "3                0.0                0.0                0.0     0.0  \n",
       "4                0.0                0.0                0.0     0.0  \n",
       "\n",
       "[5 rows x 60499 columns]"
      ]
     },
     "execution_count": 85,
     "metadata": {},
     "output_type": "execute_result"
    }
   ],
   "source": [
    "new_a = new_a.T # transpose so now it makes sense as a dataframe\n",
    "df_kidney = pd.DataFrame(new_a)\n",
    "df_kidney.columns = kidney_probes + ['Target'] # give the columns names\n",
    "df_kidney.head()\n",
    "\n",
    "# df_testicular = pd.read_csv('df_testicular.csv')"
   ]
  },
  {
   "cell_type": "code",
   "execution_count": 87,
   "metadata": {},
   "outputs": [],
   "source": [
    "# get rid of useless columns .. "
   ]
  },
  {
   "cell_type": "code",
   "execution_count": 88,
   "metadata": {},
   "outputs": [
    {
     "name": "stdout",
     "output_type": "stream",
     "text": [
      "6701\n"
     ]
    },
    {
     "data": {
      "text/html": [
       "<div>\n",
       "<style scoped>\n",
       "    .dataframe tbody tr th:only-of-type {\n",
       "        vertical-align: middle;\n",
       "    }\n",
       "\n",
       "    .dataframe tbody tr th {\n",
       "        vertical-align: top;\n",
       "    }\n",
       "\n",
       "    .dataframe thead th {\n",
       "        text-align: right;\n",
       "    }\n",
       "</style>\n",
       "<table border=\"1\" class=\"dataframe\">\n",
       "  <thead>\n",
       "    <tr style=\"text-align: right;\">\n",
       "      <th></th>\n",
       "      <th>ENSG00000000003.14</th>\n",
       "      <th>ENSG00000000005.5</th>\n",
       "      <th>ENSG00000000419.12</th>\n",
       "      <th>ENSG00000000457.13</th>\n",
       "      <th>ENSG00000000460.16</th>\n",
       "      <th>ENSG00000000938.12</th>\n",
       "      <th>ENSG00000000971.15</th>\n",
       "      <th>ENSG00000001036.13</th>\n",
       "      <th>ENSG00000001084.10</th>\n",
       "      <th>ENSG00000001167.14</th>\n",
       "      <th>...</th>\n",
       "      <th>ENSG00000282785.1</th>\n",
       "      <th>ENSG00000282787.1</th>\n",
       "      <th>ENSG00000282793.1</th>\n",
       "      <th>ENSG00000282795.1</th>\n",
       "      <th>ENSG00000282798.1</th>\n",
       "      <th>ENSG00000282804.1</th>\n",
       "      <th>ENSG00000282807.1</th>\n",
       "      <th>ENSG00000282815.1</th>\n",
       "      <th>ENSG00000282816.1</th>\n",
       "      <th>Target</th>\n",
       "    </tr>\n",
       "  </thead>\n",
       "  <tbody>\n",
       "    <tr>\n",
       "      <th>0</th>\n",
       "      <td>11.85</td>\n",
       "      <td>4.263</td>\n",
       "      <td>9.846</td>\n",
       "      <td>9.279</td>\n",
       "      <td>6.644</td>\n",
       "      <td>7.561</td>\n",
       "      <td>9.849</td>\n",
       "      <td>11.49</td>\n",
       "      <td>10.560</td>\n",
       "      <td>9.167</td>\n",
       "      <td>...</td>\n",
       "      <td>0.0</td>\n",
       "      <td>0.0000</td>\n",
       "      <td>0.0</td>\n",
       "      <td>0.0</td>\n",
       "      <td>1.968</td>\n",
       "      <td>0.0</td>\n",
       "      <td>0.000</td>\n",
       "      <td>0.0000</td>\n",
       "      <td>0.0</td>\n",
       "      <td>0.0</td>\n",
       "    </tr>\n",
       "    <tr>\n",
       "      <th>1</th>\n",
       "      <td>10.99</td>\n",
       "      <td>5.745</td>\n",
       "      <td>9.317</td>\n",
       "      <td>8.845</td>\n",
       "      <td>5.612</td>\n",
       "      <td>7.028</td>\n",
       "      <td>10.280</td>\n",
       "      <td>11.36</td>\n",
       "      <td>10.720</td>\n",
       "      <td>9.005</td>\n",
       "      <td>...</td>\n",
       "      <td>0.0</td>\n",
       "      <td>0.6703</td>\n",
       "      <td>0.0</td>\n",
       "      <td>0.0</td>\n",
       "      <td>2.519</td>\n",
       "      <td>0.0</td>\n",
       "      <td>0.000</td>\n",
       "      <td>0.0000</td>\n",
       "      <td>0.0</td>\n",
       "      <td>0.0</td>\n",
       "    </tr>\n",
       "    <tr>\n",
       "      <th>2</th>\n",
       "      <td>12.41</td>\n",
       "      <td>4.251</td>\n",
       "      <td>9.633</td>\n",
       "      <td>9.339</td>\n",
       "      <td>6.641</td>\n",
       "      <td>7.457</td>\n",
       "      <td>9.197</td>\n",
       "      <td>11.52</td>\n",
       "      <td>9.333</td>\n",
       "      <td>9.694</td>\n",
       "      <td>...</td>\n",
       "      <td>0.0</td>\n",
       "      <td>2.5230</td>\n",
       "      <td>0.0</td>\n",
       "      <td>0.0</td>\n",
       "      <td>3.517</td>\n",
       "      <td>0.0</td>\n",
       "      <td>1.536</td>\n",
       "      <td>0.9633</td>\n",
       "      <td>0.0</td>\n",
       "      <td>0.0</td>\n",
       "    </tr>\n",
       "    <tr>\n",
       "      <th>3</th>\n",
       "      <td>12.15</td>\n",
       "      <td>6.136</td>\n",
       "      <td>9.937</td>\n",
       "      <td>9.241</td>\n",
       "      <td>6.917</td>\n",
       "      <td>8.537</td>\n",
       "      <td>10.760</td>\n",
       "      <td>11.21</td>\n",
       "      <td>9.552</td>\n",
       "      <td>9.133</td>\n",
       "      <td>...</td>\n",
       "      <td>0.0</td>\n",
       "      <td>0.9929</td>\n",
       "      <td>0.0</td>\n",
       "      <td>0.0</td>\n",
       "      <td>0.000</td>\n",
       "      <td>0.0</td>\n",
       "      <td>0.000</td>\n",
       "      <td>0.0000</td>\n",
       "      <td>0.0</td>\n",
       "      <td>0.0</td>\n",
       "    </tr>\n",
       "    <tr>\n",
       "      <th>4</th>\n",
       "      <td>11.26</td>\n",
       "      <td>5.073</td>\n",
       "      <td>9.477</td>\n",
       "      <td>9.253</td>\n",
       "      <td>6.484</td>\n",
       "      <td>6.902</td>\n",
       "      <td>11.520</td>\n",
       "      <td>11.27</td>\n",
       "      <td>10.480</td>\n",
       "      <td>9.353</td>\n",
       "      <td>...</td>\n",
       "      <td>0.0</td>\n",
       "      <td>0.8947</td>\n",
       "      <td>0.0</td>\n",
       "      <td>0.0</td>\n",
       "      <td>3.262</td>\n",
       "      <td>0.0</td>\n",
       "      <td>0.000</td>\n",
       "      <td>0.0000</td>\n",
       "      <td>0.0</td>\n",
       "      <td>0.0</td>\n",
       "    </tr>\n",
       "  </tbody>\n",
       "</table>\n",
       "<p>5 rows × 53798 columns</p>\n",
       "</div>"
      ],
      "text/plain": [
       "   ENSG00000000003.14  ENSG00000000005.5  ENSG00000000419.12  \\\n",
       "0               11.85              4.263               9.846   \n",
       "1               10.99              5.745               9.317   \n",
       "2               12.41              4.251               9.633   \n",
       "3               12.15              6.136               9.937   \n",
       "4               11.26              5.073               9.477   \n",
       "\n",
       "   ENSG00000000457.13  ENSG00000000460.16  ENSG00000000938.12  \\\n",
       "0               9.279               6.644               7.561   \n",
       "1               8.845               5.612               7.028   \n",
       "2               9.339               6.641               7.457   \n",
       "3               9.241               6.917               8.537   \n",
       "4               9.253               6.484               6.902   \n",
       "\n",
       "   ENSG00000000971.15  ENSG00000001036.13  ENSG00000001084.10  \\\n",
       "0               9.849               11.49              10.560   \n",
       "1              10.280               11.36              10.720   \n",
       "2               9.197               11.52               9.333   \n",
       "3              10.760               11.21               9.552   \n",
       "4              11.520               11.27              10.480   \n",
       "\n",
       "   ENSG00000001167.14  ...  ENSG00000282785.1  ENSG00000282787.1  \\\n",
       "0               9.167  ...                0.0             0.0000   \n",
       "1               9.005  ...                0.0             0.6703   \n",
       "2               9.694  ...                0.0             2.5230   \n",
       "3               9.133  ...                0.0             0.9929   \n",
       "4               9.353  ...                0.0             0.8947   \n",
       "\n",
       "   ENSG00000282793.1  ENSG00000282795.1  ENSG00000282798.1  ENSG00000282804.1  \\\n",
       "0                0.0                0.0              1.968                0.0   \n",
       "1                0.0                0.0              2.519                0.0   \n",
       "2                0.0                0.0              3.517                0.0   \n",
       "3                0.0                0.0              0.000                0.0   \n",
       "4                0.0                0.0              3.262                0.0   \n",
       "\n",
       "   ENSG00000282807.1  ENSG00000282815.1  ENSG00000282816.1  Target  \n",
       "0              0.000             0.0000                0.0     0.0  \n",
       "1              0.000             0.0000                0.0     0.0  \n",
       "2              1.536             0.9633                0.0     0.0  \n",
       "3              0.000             0.0000                0.0     0.0  \n",
       "4              0.000             0.0000                0.0     0.0  \n",
       "\n",
       "[5 rows x 53798 columns]"
      ]
     },
     "execution_count": 88,
     "metadata": {},
     "output_type": "execute_result"
    }
   ],
   "source": [
    "to_drop = []\n",
    "i = 0\n",
    "for column in df_kidney.columns:\n",
    "    if max(df_kidney[column]) == 0: # min(df_testicular[column]) == \n",
    "        to_drop += [column]\n",
    "#         print(column)\n",
    "        i +=1\n",
    "print(i)\n",
    "df_kidney = df_kidney.drop(to_drop, axis=1);\n",
    "df_kidney.head()"
   ]
  },
  {
   "cell_type": "markdown",
   "metadata": {},
   "source": [
    "### Now the Machine learning can begin .."
   ]
  },
  {
   "cell_type": "markdown",
   "metadata": {},
   "source": [
    "Summary: \n",
    "\n",
    "I want to get some features for the decsion tree and save the image\n",
    "\n",
    "then do another classification ML task and see if the same features appear\n",
    "\n",
    "Then attempt H.clustering and do some analysis there - can I get the features from this?"
   ]
  },
  {
   "cell_type": "code",
   "execution_count": 3,
   "metadata": {},
   "outputs": [],
   "source": [
    "# df_kidney.to_csv('df_kidney_read.csv') # doesnt need repeating\n",
    "df_kidney =  pd.read_csv('df_kidney_read.csv') # do this every start up"
   ]
  },
  {
   "cell_type": "code",
   "execution_count": 14,
   "metadata": {
    "scrolled": true
   },
   "outputs": [
    {
     "data": {
      "text/html": [
       "<div>\n",
       "<style scoped>\n",
       "    .dataframe tbody tr th:only-of-type {\n",
       "        vertical-align: middle;\n",
       "    }\n",
       "\n",
       "    .dataframe tbody tr th {\n",
       "        vertical-align: top;\n",
       "    }\n",
       "\n",
       "    .dataframe thead th {\n",
       "        text-align: right;\n",
       "    }\n",
       "</style>\n",
       "<table border=\"1\" class=\"dataframe\">\n",
       "  <thead>\n",
       "    <tr style=\"text-align: right;\">\n",
       "      <th></th>\n",
       "      <th>ENSG00000000003.14</th>\n",
       "      <th>ENSG00000000005.5</th>\n",
       "      <th>ENSG00000000419.12</th>\n",
       "      <th>ENSG00000000457.13</th>\n",
       "      <th>ENSG00000000460.16</th>\n",
       "      <th>ENSG00000000938.12</th>\n",
       "      <th>ENSG00000000971.15</th>\n",
       "      <th>ENSG00000001036.13</th>\n",
       "      <th>ENSG00000001084.10</th>\n",
       "      <th>ENSG00000001167.14</th>\n",
       "      <th>...</th>\n",
       "      <th>ENSG00000282785.1</th>\n",
       "      <th>ENSG00000282787.1</th>\n",
       "      <th>ENSG00000282793.1</th>\n",
       "      <th>ENSG00000282795.1</th>\n",
       "      <th>ENSG00000282798.1</th>\n",
       "      <th>ENSG00000282804.1</th>\n",
       "      <th>ENSG00000282807.1</th>\n",
       "      <th>ENSG00000282815.1</th>\n",
       "      <th>ENSG00000282816.1</th>\n",
       "      <th>Target</th>\n",
       "    </tr>\n",
       "  </thead>\n",
       "  <tbody>\n",
       "    <tr>\n",
       "      <th>0</th>\n",
       "      <td>11.85</td>\n",
       "      <td>4.263</td>\n",
       "      <td>9.846</td>\n",
       "      <td>9.279</td>\n",
       "      <td>6.644</td>\n",
       "      <td>7.561</td>\n",
       "      <td>9.849</td>\n",
       "      <td>11.49</td>\n",
       "      <td>10.560</td>\n",
       "      <td>9.167</td>\n",
       "      <td>...</td>\n",
       "      <td>0.0</td>\n",
       "      <td>0.0000</td>\n",
       "      <td>0.0</td>\n",
       "      <td>0.0</td>\n",
       "      <td>1.968</td>\n",
       "      <td>0.0</td>\n",
       "      <td>0.000</td>\n",
       "      <td>0.0000</td>\n",
       "      <td>0.0</td>\n",
       "      <td>0.0</td>\n",
       "    </tr>\n",
       "    <tr>\n",
       "      <th>1</th>\n",
       "      <td>10.99</td>\n",
       "      <td>5.745</td>\n",
       "      <td>9.317</td>\n",
       "      <td>8.845</td>\n",
       "      <td>5.612</td>\n",
       "      <td>7.028</td>\n",
       "      <td>10.280</td>\n",
       "      <td>11.36</td>\n",
       "      <td>10.720</td>\n",
       "      <td>9.005</td>\n",
       "      <td>...</td>\n",
       "      <td>0.0</td>\n",
       "      <td>0.6703</td>\n",
       "      <td>0.0</td>\n",
       "      <td>0.0</td>\n",
       "      <td>2.519</td>\n",
       "      <td>0.0</td>\n",
       "      <td>0.000</td>\n",
       "      <td>0.0000</td>\n",
       "      <td>0.0</td>\n",
       "      <td>0.0</td>\n",
       "    </tr>\n",
       "    <tr>\n",
       "      <th>2</th>\n",
       "      <td>12.41</td>\n",
       "      <td>4.251</td>\n",
       "      <td>9.633</td>\n",
       "      <td>9.339</td>\n",
       "      <td>6.641</td>\n",
       "      <td>7.457</td>\n",
       "      <td>9.197</td>\n",
       "      <td>11.52</td>\n",
       "      <td>9.333</td>\n",
       "      <td>9.694</td>\n",
       "      <td>...</td>\n",
       "      <td>0.0</td>\n",
       "      <td>2.5230</td>\n",
       "      <td>0.0</td>\n",
       "      <td>0.0</td>\n",
       "      <td>3.517</td>\n",
       "      <td>0.0</td>\n",
       "      <td>1.536</td>\n",
       "      <td>0.9633</td>\n",
       "      <td>0.0</td>\n",
       "      <td>0.0</td>\n",
       "    </tr>\n",
       "    <tr>\n",
       "      <th>3</th>\n",
       "      <td>12.15</td>\n",
       "      <td>6.136</td>\n",
       "      <td>9.937</td>\n",
       "      <td>9.241</td>\n",
       "      <td>6.917</td>\n",
       "      <td>8.537</td>\n",
       "      <td>10.760</td>\n",
       "      <td>11.21</td>\n",
       "      <td>9.552</td>\n",
       "      <td>9.133</td>\n",
       "      <td>...</td>\n",
       "      <td>0.0</td>\n",
       "      <td>0.9929</td>\n",
       "      <td>0.0</td>\n",
       "      <td>0.0</td>\n",
       "      <td>0.000</td>\n",
       "      <td>0.0</td>\n",
       "      <td>0.000</td>\n",
       "      <td>0.0000</td>\n",
       "      <td>0.0</td>\n",
       "      <td>0.0</td>\n",
       "    </tr>\n",
       "    <tr>\n",
       "      <th>4</th>\n",
       "      <td>11.26</td>\n",
       "      <td>5.073</td>\n",
       "      <td>9.477</td>\n",
       "      <td>9.253</td>\n",
       "      <td>6.484</td>\n",
       "      <td>6.902</td>\n",
       "      <td>11.520</td>\n",
       "      <td>11.27</td>\n",
       "      <td>10.480</td>\n",
       "      <td>9.353</td>\n",
       "      <td>...</td>\n",
       "      <td>0.0</td>\n",
       "      <td>0.8947</td>\n",
       "      <td>0.0</td>\n",
       "      <td>0.0</td>\n",
       "      <td>3.262</td>\n",
       "      <td>0.0</td>\n",
       "      <td>0.000</td>\n",
       "      <td>0.0000</td>\n",
       "      <td>0.0</td>\n",
       "      <td>0.0</td>\n",
       "    </tr>\n",
       "  </tbody>\n",
       "</table>\n",
       "<p>5 rows × 53798 columns</p>\n",
       "</div>"
      ],
      "text/plain": [
       "   ENSG00000000003.14  ENSG00000000005.5  ENSG00000000419.12  \\\n",
       "0               11.85              4.263               9.846   \n",
       "1               10.99              5.745               9.317   \n",
       "2               12.41              4.251               9.633   \n",
       "3               12.15              6.136               9.937   \n",
       "4               11.26              5.073               9.477   \n",
       "\n",
       "   ENSG00000000457.13  ENSG00000000460.16  ENSG00000000938.12  \\\n",
       "0               9.279               6.644               7.561   \n",
       "1               8.845               5.612               7.028   \n",
       "2               9.339               6.641               7.457   \n",
       "3               9.241               6.917               8.537   \n",
       "4               9.253               6.484               6.902   \n",
       "\n",
       "   ENSG00000000971.15  ENSG00000001036.13  ENSG00000001084.10  \\\n",
       "0               9.849               11.49              10.560   \n",
       "1              10.280               11.36              10.720   \n",
       "2               9.197               11.52               9.333   \n",
       "3              10.760               11.21               9.552   \n",
       "4              11.520               11.27              10.480   \n",
       "\n",
       "   ENSG00000001167.14  ...  ENSG00000282785.1  ENSG00000282787.1  \\\n",
       "0               9.167  ...                0.0             0.0000   \n",
       "1               9.005  ...                0.0             0.6703   \n",
       "2               9.694  ...                0.0             2.5230   \n",
       "3               9.133  ...                0.0             0.9929   \n",
       "4               9.353  ...                0.0             0.8947   \n",
       "\n",
       "   ENSG00000282793.1  ENSG00000282795.1  ENSG00000282798.1  ENSG00000282804.1  \\\n",
       "0                0.0                0.0              1.968                0.0   \n",
       "1                0.0                0.0              2.519                0.0   \n",
       "2                0.0                0.0              3.517                0.0   \n",
       "3                0.0                0.0              0.000                0.0   \n",
       "4                0.0                0.0              3.262                0.0   \n",
       "\n",
       "   ENSG00000282807.1  ENSG00000282815.1  ENSG00000282816.1  Target  \n",
       "0              0.000             0.0000                0.0     0.0  \n",
       "1              0.000             0.0000                0.0     0.0  \n",
       "2              1.536             0.9633                0.0     0.0  \n",
       "3              0.000             0.0000                0.0     0.0  \n",
       "4              0.000             0.0000                0.0     0.0  \n",
       "\n",
       "[5 rows x 53798 columns]"
      ]
     },
     "execution_count": 14,
     "metadata": {},
     "output_type": "execute_result"
    }
   ],
   "source": [
    "del df_kidney['Unnamed: 0']\n",
    "df_kidney.head()"
   ]
  },
  {
   "cell_type": "code",
   "execution_count": 15,
   "metadata": {},
   "outputs": [],
   "source": [
    "# 0 = normal\n",
    "# 1 = chromophobe\n",
    "# 2 = clear cell carcinoma \n",
    "# 3 = papillary "
   ]
  },
  {
   "cell_type": "code",
   "execution_count": 16,
   "metadata": {},
   "outputs": [],
   "source": [
    "normal_kidney_df = (df_kidney.loc[df_kidney['Target'] == 0])\n",
    "chrome_kidney_df = (df_kidney.loc[df_kidney['Target'] == 1])\n",
    "clearc_kidney_df = (df_kidney.loc[df_kidney['Target'] == 2])\n",
    "papill_kidney_df = (df_kidney.loc[df_kidney['Target'] == 3])\n"
   ]
  },
  {
   "cell_type": "code",
   "execution_count": 17,
   "metadata": {},
   "outputs": [],
   "source": [
    "from sklearn.tree import DecisionTreeClassifier, export_graphviz"
   ]
  },
  {
   "cell_type": "markdown",
   "metadata": {},
   "source": [
    "#### Normal vs Chrome"
   ]
  },
  {
   "cell_type": "code",
   "execution_count": 18,
   "metadata": {
    "scrolled": false
   },
   "outputs": [
    {
     "data": {
      "text/html": [
       "<div>\n",
       "<style scoped>\n",
       "    .dataframe tbody tr th:only-of-type {\n",
       "        vertical-align: middle;\n",
       "    }\n",
       "\n",
       "    .dataframe tbody tr th {\n",
       "        vertical-align: top;\n",
       "    }\n",
       "\n",
       "    .dataframe thead th {\n",
       "        text-align: right;\n",
       "    }\n",
       "</style>\n",
       "<table border=\"1\" class=\"dataframe\">\n",
       "  <thead>\n",
       "    <tr style=\"text-align: right;\">\n",
       "      <th></th>\n",
       "      <th>ENSG00000000003.14</th>\n",
       "      <th>ENSG00000000005.5</th>\n",
       "      <th>ENSG00000000419.12</th>\n",
       "      <th>ENSG00000000457.13</th>\n",
       "      <th>ENSG00000000460.16</th>\n",
       "      <th>ENSG00000000938.12</th>\n",
       "      <th>ENSG00000000971.15</th>\n",
       "      <th>ENSG00000001036.13</th>\n",
       "      <th>ENSG00000001084.10</th>\n",
       "      <th>ENSG00000001167.14</th>\n",
       "      <th>...</th>\n",
       "      <th>ENSG00000282785.1</th>\n",
       "      <th>ENSG00000282787.1</th>\n",
       "      <th>ENSG00000282793.1</th>\n",
       "      <th>ENSG00000282795.1</th>\n",
       "      <th>ENSG00000282798.1</th>\n",
       "      <th>ENSG00000282804.1</th>\n",
       "      <th>ENSG00000282807.1</th>\n",
       "      <th>ENSG00000282815.1</th>\n",
       "      <th>ENSG00000282816.1</th>\n",
       "      <th>Target</th>\n",
       "    </tr>\n",
       "  </thead>\n",
       "  <tbody>\n",
       "    <tr>\n",
       "      <th>0</th>\n",
       "      <td>11.85</td>\n",
       "      <td>4.263</td>\n",
       "      <td>9.846</td>\n",
       "      <td>9.279</td>\n",
       "      <td>6.644</td>\n",
       "      <td>7.561</td>\n",
       "      <td>9.849</td>\n",
       "      <td>11.49</td>\n",
       "      <td>10.560</td>\n",
       "      <td>9.167</td>\n",
       "      <td>...</td>\n",
       "      <td>0.0</td>\n",
       "      <td>0.0000</td>\n",
       "      <td>0.0</td>\n",
       "      <td>0.0</td>\n",
       "      <td>1.968</td>\n",
       "      <td>0.0</td>\n",
       "      <td>0.000</td>\n",
       "      <td>0.0000</td>\n",
       "      <td>0.0</td>\n",
       "      <td>0.0</td>\n",
       "    </tr>\n",
       "    <tr>\n",
       "      <th>1</th>\n",
       "      <td>10.99</td>\n",
       "      <td>5.745</td>\n",
       "      <td>9.317</td>\n",
       "      <td>8.845</td>\n",
       "      <td>5.612</td>\n",
       "      <td>7.028</td>\n",
       "      <td>10.280</td>\n",
       "      <td>11.36</td>\n",
       "      <td>10.720</td>\n",
       "      <td>9.005</td>\n",
       "      <td>...</td>\n",
       "      <td>0.0</td>\n",
       "      <td>0.6703</td>\n",
       "      <td>0.0</td>\n",
       "      <td>0.0</td>\n",
       "      <td>2.519</td>\n",
       "      <td>0.0</td>\n",
       "      <td>0.000</td>\n",
       "      <td>0.0000</td>\n",
       "      <td>0.0</td>\n",
       "      <td>0.0</td>\n",
       "    </tr>\n",
       "    <tr>\n",
       "      <th>2</th>\n",
       "      <td>12.41</td>\n",
       "      <td>4.251</td>\n",
       "      <td>9.633</td>\n",
       "      <td>9.339</td>\n",
       "      <td>6.641</td>\n",
       "      <td>7.457</td>\n",
       "      <td>9.197</td>\n",
       "      <td>11.52</td>\n",
       "      <td>9.333</td>\n",
       "      <td>9.694</td>\n",
       "      <td>...</td>\n",
       "      <td>0.0</td>\n",
       "      <td>2.5230</td>\n",
       "      <td>0.0</td>\n",
       "      <td>0.0</td>\n",
       "      <td>3.517</td>\n",
       "      <td>0.0</td>\n",
       "      <td>1.536</td>\n",
       "      <td>0.9633</td>\n",
       "      <td>0.0</td>\n",
       "      <td>0.0</td>\n",
       "    </tr>\n",
       "    <tr>\n",
       "      <th>3</th>\n",
       "      <td>12.15</td>\n",
       "      <td>6.136</td>\n",
       "      <td>9.937</td>\n",
       "      <td>9.241</td>\n",
       "      <td>6.917</td>\n",
       "      <td>8.537</td>\n",
       "      <td>10.760</td>\n",
       "      <td>11.21</td>\n",
       "      <td>9.552</td>\n",
       "      <td>9.133</td>\n",
       "      <td>...</td>\n",
       "      <td>0.0</td>\n",
       "      <td>0.9929</td>\n",
       "      <td>0.0</td>\n",
       "      <td>0.0</td>\n",
       "      <td>0.000</td>\n",
       "      <td>0.0</td>\n",
       "      <td>0.000</td>\n",
       "      <td>0.0000</td>\n",
       "      <td>0.0</td>\n",
       "      <td>0.0</td>\n",
       "    </tr>\n",
       "    <tr>\n",
       "      <th>4</th>\n",
       "      <td>11.26</td>\n",
       "      <td>5.073</td>\n",
       "      <td>9.477</td>\n",
       "      <td>9.253</td>\n",
       "      <td>6.484</td>\n",
       "      <td>6.902</td>\n",
       "      <td>11.520</td>\n",
       "      <td>11.27</td>\n",
       "      <td>10.480</td>\n",
       "      <td>9.353</td>\n",
       "      <td>...</td>\n",
       "      <td>0.0</td>\n",
       "      <td>0.8947</td>\n",
       "      <td>0.0</td>\n",
       "      <td>0.0</td>\n",
       "      <td>3.262</td>\n",
       "      <td>0.0</td>\n",
       "      <td>0.000</td>\n",
       "      <td>0.0000</td>\n",
       "      <td>0.0</td>\n",
       "      <td>0.0</td>\n",
       "    </tr>\n",
       "  </tbody>\n",
       "</table>\n",
       "<p>5 rows × 53798 columns</p>\n",
       "</div>"
      ],
      "text/plain": [
       "   ENSG00000000003.14  ENSG00000000005.5  ENSG00000000419.12  \\\n",
       "0               11.85              4.263               9.846   \n",
       "1               10.99              5.745               9.317   \n",
       "2               12.41              4.251               9.633   \n",
       "3               12.15              6.136               9.937   \n",
       "4               11.26              5.073               9.477   \n",
       "\n",
       "   ENSG00000000457.13  ENSG00000000460.16  ENSG00000000938.12  \\\n",
       "0               9.279               6.644               7.561   \n",
       "1               8.845               5.612               7.028   \n",
       "2               9.339               6.641               7.457   \n",
       "3               9.241               6.917               8.537   \n",
       "4               9.253               6.484               6.902   \n",
       "\n",
       "   ENSG00000000971.15  ENSG00000001036.13  ENSG00000001084.10  \\\n",
       "0               9.849               11.49              10.560   \n",
       "1              10.280               11.36              10.720   \n",
       "2               9.197               11.52               9.333   \n",
       "3              10.760               11.21               9.552   \n",
       "4              11.520               11.27              10.480   \n",
       "\n",
       "   ENSG00000001167.14  ...  ENSG00000282785.1  ENSG00000282787.1  \\\n",
       "0               9.167  ...                0.0             0.0000   \n",
       "1               9.005  ...                0.0             0.6703   \n",
       "2               9.694  ...                0.0             2.5230   \n",
       "3               9.133  ...                0.0             0.9929   \n",
       "4               9.353  ...                0.0             0.8947   \n",
       "\n",
       "   ENSG00000282793.1  ENSG00000282795.1  ENSG00000282798.1  ENSG00000282804.1  \\\n",
       "0                0.0                0.0              1.968                0.0   \n",
       "1                0.0                0.0              2.519                0.0   \n",
       "2                0.0                0.0              3.517                0.0   \n",
       "3                0.0                0.0              0.000                0.0   \n",
       "4                0.0                0.0              3.262                0.0   \n",
       "\n",
       "   ENSG00000282807.1  ENSG00000282815.1  ENSG00000282816.1  Target  \n",
       "0              0.000             0.0000                0.0     0.0  \n",
       "1              0.000             0.0000                0.0     0.0  \n",
       "2              1.536             0.9633                0.0     0.0  \n",
       "3              0.000             0.0000                0.0     0.0  \n",
       "4              0.000             0.0000                0.0     0.0  \n",
       "\n",
       "[5 rows x 53798 columns]"
      ]
     },
     "execution_count": 18,
     "metadata": {},
     "output_type": "execute_result"
    }
   ],
   "source": [
    "df_norm_chrome = pd.concat([normal_kidney_df, chrome_kidney_df])\n",
    "df_norm_chrome.head()"
   ]
  },
  {
   "cell_type": "code",
   "execution_count": 19,
   "metadata": {},
   "outputs": [],
   "source": [
    "features = list(df_norm_chrome.columns[:-1])\n",
    "y = df_norm_chrome[\"Target\"]\n",
    "X = df_norm_chrome[features]"
   ]
  },
  {
   "cell_type": "code",
   "execution_count": 20,
   "metadata": {},
   "outputs": [],
   "source": [
    "from sklearn.ensemble import RandomForestClassifier"
   ]
  },
  {
   "cell_type": "code",
   "execution_count": 56,
   "metadata": {},
   "outputs": [],
   "source": [
    "features = list(df_norm_chrome.columns[:-1])\n",
    "y = df_norm_chrome[\"Target\"]\n",
    "X = df_norm_chrome[features]\n"
   ]
  },
  {
   "cell_type": "code",
   "execution_count": 57,
   "metadata": {},
   "outputs": [
    {
     "data": {
      "text/plain": [
       "RandomForestClassifier(bootstrap=True, class_weight=None, criterion='gini',\n",
       "            max_depth=None, max_features='auto', max_leaf_nodes=None,\n",
       "            min_impurity_decrease=0.0, min_impurity_split=None,\n",
       "            min_samples_leaf=1, min_samples_split=2,\n",
       "            min_weight_fraction_leaf=0.0, n_estimators=200, n_jobs=None,\n",
       "            oob_score=False, random_state=None, verbose=0,\n",
       "            warm_start=False)"
      ]
     },
     "execution_count": 57,
     "metadata": {},
     "output_type": "execute_result"
    }
   ],
   "source": [
    "dt = RandomForestClassifier(n_estimators=200) # min_samples_split=5, random_state=99\n",
    "# dt = DecisionTreeClassifier() # min_samples_split=5, random_state=99\n",
    "dt.fit(X, y)"
   ]
  },
  {
   "cell_type": "code",
   "execution_count": 69,
   "metadata": {
    "scrolled": true
   },
   "outputs": [
    {
     "data": {
      "image/png": "[encoded data removed]",
      "text/plain": [
       "<Figure size 432x288 with 1 Axes>"
      ]
     },
     "metadata": {
      "needs_background": "light"
     },
     "output_type": "display_data"
    }
   ],
   "source": [
    "f_importance = dt.feature_importances_\n",
    "indices = np.argsort(f_importance)[-200:]  # top 10 features\n",
    "plt.title('Feature Importances')\n",
    "plt.barh(range(len(indices)), f_importance[indices], color='black', align='center')\n",
    "# plt.yticks(range(len(indices)), [features[i] for i in indices])\n",
    "plt.ylabel('Features (unlabled)')\n",
    "plt.xlabel('Relative Importance')\n",
    "plt.show()\n",
    "# plt.figure(figsize=(8, 6))"
   ]
  },
  {
   "cell_type": "markdown",
   "metadata": {},
   "source": [
    "Clearly only very few seem important, probably around 15. Point out the top 1 and see what it does... These features are :"
   ]
  },
  {
   "cell_type": "code",
   "execution_count": null,
   "metadata": {},
   "outputs": [],
   "source": [
    "indices = np.argsort(f_importance)[-40:]\n",
    "important_feature_norm_chrome = [features[i] for i in indices]\n",
    "print(important_feature_norm_chrome)"
   ]
  },
  {
   "cell_type": "code",
   "execution_count": 60,
   "metadata": {},
   "outputs": [
    {
     "data": {
      "image/png": "[encoded data removed]",
      "text/plain": [
       "<Figure size 432x288 with 1 Axes>"
      ]
     },
     "metadata": {
      "needs_background": "light"
     },
     "output_type": "display_data"
    }
   ],
   "source": [
    "f_importance = dt.feature_importances_\n",
    "indices = np.argsort(f_importance)[-20:]  # top 10 features\n",
    "plt.title('Feature Importances')\n",
    "plt.barh(range(len(indices)), f_importance[indices], color='b', align='center')\n",
    "plt.yticks(range(len(indices)), [features[i] for i in indices])\n",
    "plt.xlabel('Relative Importance')\n",
    "plt.show()"
   ]
  },
  {
   "cell_type": "markdown",
   "metadata": {},
   "source": [
    "Here we can see a clear divide. Whereas the lower ranking results blend quite well (maybe show both)."
   ]
  },
  {
   "cell_type": "code",
   "execution_count": 61,
   "metadata": {},
   "outputs": [
    {
     "data": {
      "text/plain": [
       "<matplotlib.collections.PathCollection at 0x1c905ce2fd0>"
      ]
     },
     "execution_count": 61,
     "metadata": {},
     "output_type": "execute_result"
    },
    {
     "data": {
      "image/png": "[encoded data removed]",
      "text/plain": [
       "<Figure size 432x288 with 1 Axes>"
      ]
     },
     "metadata": {
      "needs_background": "light"
     },
     "output_type": "display_data"
    }
   ],
   "source": [
    "plt.scatter(range(len(df_norm_chrome)),df_norm_chrome['ENSG00000113946.3'])"
   ]
  },
  {
   "cell_type": "markdown",
   "metadata": {},
   "source": [
    "#### Normal vs Clear Cell"
   ]
  },
  {
   "cell_type": "code",
   "execution_count": 70,
   "metadata": {},
   "outputs": [
    {
     "data": {
      "text/html": [
       "<div>\n",
       "<style scoped>\n",
       "    .dataframe tbody tr th:only-of-type {\n",
       "        vertical-align: middle;\n",
       "    }\n",
       "\n",
       "    .dataframe tbody tr th {\n",
       "        vertical-align: top;\n",
       "    }\n",
       "\n",
       "    .dataframe thead th {\n",
       "        text-align: right;\n",
       "    }\n",
       "</style>\n",
       "<table border=\"1\" class=\"dataframe\">\n",
       "  <thead>\n",
       "    <tr style=\"text-align: right;\">\n",
       "      <th></th>\n",
       "      <th>ENSG00000000003.14</th>\n",
       "      <th>ENSG00000000005.5</th>\n",
       "      <th>ENSG00000000419.12</th>\n",
       "      <th>ENSG00000000457.13</th>\n",
       "      <th>ENSG00000000460.16</th>\n",
       "      <th>ENSG00000000938.12</th>\n",
       "      <th>ENSG00000000971.15</th>\n",
       "      <th>ENSG00000001036.13</th>\n",
       "      <th>ENSG00000001084.10</th>\n",
       "      <th>ENSG00000001167.14</th>\n",
       "      <th>...</th>\n",
       "      <th>ENSG00000282785.1</th>\n",
       "      <th>ENSG00000282787.1</th>\n",
       "      <th>ENSG00000282793.1</th>\n",
       "      <th>ENSG00000282795.1</th>\n",
       "      <th>ENSG00000282798.1</th>\n",
       "      <th>ENSG00000282804.1</th>\n",
       "      <th>ENSG00000282807.1</th>\n",
       "      <th>ENSG00000282815.1</th>\n",
       "      <th>ENSG00000282816.1</th>\n",
       "      <th>Target</th>\n",
       "    </tr>\n",
       "  </thead>\n",
       "  <tbody>\n",
       "    <tr>\n",
       "      <th>720</th>\n",
       "      <td>11.01</td>\n",
       "      <td>4.6090</td>\n",
       "      <td>10.54</td>\n",
       "      <td>10.020</td>\n",
       "      <td>8.722</td>\n",
       "      <td>11.580</td>\n",
       "      <td>13.100</td>\n",
       "      <td>11.89</td>\n",
       "      <td>10.830</td>\n",
       "      <td>10.16</td>\n",
       "      <td>...</td>\n",
       "      <td>0.0</td>\n",
       "      <td>0.000</td>\n",
       "      <td>2.506</td>\n",
       "      <td>0.0</td>\n",
       "      <td>0.000</td>\n",
       "      <td>1.356</td>\n",
       "      <td>2.856</td>\n",
       "      <td>0.000</td>\n",
       "      <td>0.0</td>\n",
       "      <td>2.0</td>\n",
       "    </tr>\n",
       "    <tr>\n",
       "      <th>721</th>\n",
       "      <td>11.29</td>\n",
       "      <td>2.9250</td>\n",
       "      <td>10.56</td>\n",
       "      <td>9.743</td>\n",
       "      <td>8.590</td>\n",
       "      <td>10.570</td>\n",
       "      <td>11.690</td>\n",
       "      <td>12.01</td>\n",
       "      <td>10.540</td>\n",
       "      <td>10.34</td>\n",
       "      <td>...</td>\n",
       "      <td>0.0</td>\n",
       "      <td>3.445</td>\n",
       "      <td>0.000</td>\n",
       "      <td>0.0</td>\n",
       "      <td>2.572</td>\n",
       "      <td>1.405</td>\n",
       "      <td>2.104</td>\n",
       "      <td>5.283</td>\n",
       "      <td>0.0</td>\n",
       "      <td>2.0</td>\n",
       "    </tr>\n",
       "    <tr>\n",
       "      <th>722</th>\n",
       "      <td>11.27</td>\n",
       "      <td>2.9370</td>\n",
       "      <td>10.38</td>\n",
       "      <td>9.647</td>\n",
       "      <td>8.256</td>\n",
       "      <td>10.300</td>\n",
       "      <td>13.510</td>\n",
       "      <td>12.77</td>\n",
       "      <td>9.975</td>\n",
       "      <td>10.62</td>\n",
       "      <td>...</td>\n",
       "      <td>0.0</td>\n",
       "      <td>3.840</td>\n",
       "      <td>2.584</td>\n",
       "      <td>0.0</td>\n",
       "      <td>1.414</td>\n",
       "      <td>0.000</td>\n",
       "      <td>0.000</td>\n",
       "      <td>1.414</td>\n",
       "      <td>0.0</td>\n",
       "      <td>2.0</td>\n",
       "    </tr>\n",
       "    <tr>\n",
       "      <th>723</th>\n",
       "      <td>11.63</td>\n",
       "      <td>3.2960</td>\n",
       "      <td>10.88</td>\n",
       "      <td>9.724</td>\n",
       "      <td>7.733</td>\n",
       "      <td>9.610</td>\n",
       "      <td>10.330</td>\n",
       "      <td>11.78</td>\n",
       "      <td>11.260</td>\n",
       "      <td>10.54</td>\n",
       "      <td>...</td>\n",
       "      <td>0.0</td>\n",
       "      <td>3.124</td>\n",
       "      <td>2.436</td>\n",
       "      <td>0.0</td>\n",
       "      <td>3.449</td>\n",
       "      <td>0.000</td>\n",
       "      <td>0.000</td>\n",
       "      <td>1.072</td>\n",
       "      <td>0.0</td>\n",
       "      <td>2.0</td>\n",
       "    </tr>\n",
       "    <tr>\n",
       "      <th>724</th>\n",
       "      <td>10.71</td>\n",
       "      <td>0.6474</td>\n",
       "      <td>9.68</td>\n",
       "      <td>9.267</td>\n",
       "      <td>7.368</td>\n",
       "      <td>8.201</td>\n",
       "      <td>7.977</td>\n",
       "      <td>13.13</td>\n",
       "      <td>10.610</td>\n",
       "      <td>10.28</td>\n",
       "      <td>...</td>\n",
       "      <td>0.0</td>\n",
       "      <td>2.736</td>\n",
       "      <td>0.000</td>\n",
       "      <td>0.0</td>\n",
       "      <td>3.624</td>\n",
       "      <td>0.000</td>\n",
       "      <td>0.000</td>\n",
       "      <td>0.000</td>\n",
       "      <td>0.0</td>\n",
       "      <td>2.0</td>\n",
       "    </tr>\n",
       "  </tbody>\n",
       "</table>\n",
       "<p>5 rows × 53798 columns</p>\n",
       "</div>"
      ],
      "text/plain": [
       "     ENSG00000000003.14  ENSG00000000005.5  ENSG00000000419.12  \\\n",
       "720               11.01             4.6090               10.54   \n",
       "721               11.29             2.9250               10.56   \n",
       "722               11.27             2.9370               10.38   \n",
       "723               11.63             3.2960               10.88   \n",
       "724               10.71             0.6474                9.68   \n",
       "\n",
       "     ENSG00000000457.13  ENSG00000000460.16  ENSG00000000938.12  \\\n",
       "720              10.020               8.722              11.580   \n",
       "721               9.743               8.590              10.570   \n",
       "722               9.647               8.256              10.300   \n",
       "723               9.724               7.733               9.610   \n",
       "724               9.267               7.368               8.201   \n",
       "\n",
       "     ENSG00000000971.15  ENSG00000001036.13  ENSG00000001084.10  \\\n",
       "720              13.100               11.89              10.830   \n",
       "721              11.690               12.01              10.540   \n",
       "722              13.510               12.77               9.975   \n",
       "723              10.330               11.78              11.260   \n",
       "724               7.977               13.13              10.610   \n",
       "\n",
       "     ENSG00000001167.14  ...  ENSG00000282785.1  ENSG00000282787.1  \\\n",
       "720               10.16  ...                0.0              0.000   \n",
       "721               10.34  ...                0.0              3.445   \n",
       "722               10.62  ...                0.0              3.840   \n",
       "723               10.54  ...                0.0              3.124   \n",
       "724               10.28  ...                0.0              2.736   \n",
       "\n",
       "     ENSG00000282793.1  ENSG00000282795.1  ENSG00000282798.1  \\\n",
       "720              2.506                0.0              0.000   \n",
       "721              0.000                0.0              2.572   \n",
       "722              2.584                0.0              1.414   \n",
       "723              2.436                0.0              3.449   \n",
       "724              0.000                0.0              3.624   \n",
       "\n",
       "     ENSG00000282804.1  ENSG00000282807.1  ENSG00000282815.1  \\\n",
       "720              1.356              2.856              0.000   \n",
       "721              1.405              2.104              5.283   \n",
       "722              0.000              0.000              1.414   \n",
       "723              0.000              0.000              1.072   \n",
       "724              0.000              0.000              0.000   \n",
       "\n",
       "     ENSG00000282816.1  Target  \n",
       "720                0.0     2.0  \n",
       "721                0.0     2.0  \n",
       "722                0.0     2.0  \n",
       "723                0.0     2.0  \n",
       "724                0.0     2.0  \n",
       "\n",
       "[5 rows x 53798 columns]"
      ]
     },
     "execution_count": 70,
     "metadata": {},
     "output_type": "execute_result"
    }
   ],
   "source": [
    "df_norm_clearc = pd.concat([normal_kidney_df, clearc_kidney_df])\n",
    "df_norm_clearc.tail()"
   ]
  },
  {
   "cell_type": "code",
   "execution_count": 71,
   "metadata": {},
   "outputs": [],
   "source": [
    "features = list(df_norm_clearc.columns[:-1])\n",
    "y = df_norm_clearc[\"Target\"]\n",
    "X = df_norm_clearc[features]\n",
    "    "
   ]
  },
  {
   "cell_type": "code",
   "execution_count": 72,
   "metadata": {},
   "outputs": [
    {
     "data": {
      "text/plain": [
       "RandomForestClassifier(bootstrap=True, class_weight=None, criterion='gini',\n",
       "            max_depth=None, max_features='auto', max_leaf_nodes=None,\n",
       "            min_impurity_decrease=0.0, min_impurity_split=None,\n",
       "            min_samples_leaf=1, min_samples_split=2,\n",
       "            min_weight_fraction_leaf=0.0, n_estimators=200, n_jobs=None,\n",
       "            oob_score=False, random_state=None, verbose=0,\n",
       "            warm_start=False)"
      ]
     },
     "execution_count": 72,
     "metadata": {},
     "output_type": "execute_result"
    }
   ],
   "source": [
    "dt = RandomForestClassifier(n_estimators=200) # min_samples_split=5, random_state=99\n",
    "# dt = DecisionTreeClassifier() # min_samples_split=5, random_state=99\n",
    "dt.fit(X, y)"
   ]
  },
  {
   "cell_type": "code",
   "execution_count": 73,
   "metadata": {},
   "outputs": [
    {
     "data": {
      "image/png": "[encoded data removed]",
      "text/plain": [
       "<Figure size 432x288 with 1 Axes>"
      ]
     },
     "metadata": {
      "needs_background": "light"
     },
     "output_type": "display_data"
    }
   ],
   "source": [
    "f_importance = dt.feature_importances_\n",
    "indices = np.argsort(f_importance)[-200:]  # top 10 features\n",
    "plt.title('Feature Importances')\n",
    "plt.barh(range(len(indices)), f_importance[indices], color='black', align='center')\n",
    "# plt.yticks(range(len(indices)), [features[i] for i in indices])\n",
    "plt.ylabel('Features (unlabled)')\n",
    "plt.xlabel('Relative Importance')\n",
    "plt.show()"
   ]
  },
  {
   "cell_type": "markdown",
   "metadata": {},
   "source": [
    "Again, top 15 seem to hold most of the weighting, possibly top 40. "
   ]
  },
  {
   "cell_type": "code",
   "execution_count": null,
   "metadata": {},
   "outputs": [],
   "source": [
    "indices = np.argsort(f_importance)[-40:]\n",
    "important_feature_norm_clear = [features[i] for i in indices]\n",
    "print(important_feature_norm_clear)"
   ]
  },
  {
   "cell_type": "code",
   "execution_count": 75,
   "metadata": {},
   "outputs": [
    {
     "data": {
      "image/png": "[encoded data removed]",
      "text/plain": [
       "<Figure size 432x288 with 1 Axes>"
      ]
     },
     "metadata": {
      "needs_background": "light"
     },
     "output_type": "display_data"
    }
   ],
   "source": [
    "f_importance = dt.feature_importances_\n",
    "indices = np.argsort(f_importance)[-40:]  # top 10 features\n",
    "plt.title('Feature Importances')\n",
    "plt.barh(range(len(indices)), f_importance[indices], color='b', align='center')\n",
    "plt.yticks(range(len(indices)), [features[i] for i in indices])\n",
    "plt.xlabel('Relative Importance')\n",
    "plt.show()"
   ]
  },
  {
   "cell_type": "markdown",
   "metadata": {},
   "source": [
    "#### Normal vs Papill"
   ]
  },
  {
   "cell_type": "code",
   "execution_count": 76,
   "metadata": {},
   "outputs": [
    {
     "data": {
      "text/html": [
       "<div>\n",
       "<style scoped>\n",
       "    .dataframe tbody tr th:only-of-type {\n",
       "        vertical-align: middle;\n",
       "    }\n",
       "\n",
       "    .dataframe tbody tr th {\n",
       "        vertical-align: top;\n",
       "    }\n",
       "\n",
       "    .dataframe thead th {\n",
       "        text-align: right;\n",
       "    }\n",
       "</style>\n",
       "<table border=\"1\" class=\"dataframe\">\n",
       "  <thead>\n",
       "    <tr style=\"text-align: right;\">\n",
       "      <th></th>\n",
       "      <th>ENSG00000000003.14</th>\n",
       "      <th>ENSG00000000005.5</th>\n",
       "      <th>ENSG00000000419.12</th>\n",
       "      <th>ENSG00000000457.13</th>\n",
       "      <th>ENSG00000000460.16</th>\n",
       "      <th>ENSG00000000938.12</th>\n",
       "      <th>ENSG00000000971.15</th>\n",
       "      <th>ENSG00000001036.13</th>\n",
       "      <th>ENSG00000001084.10</th>\n",
       "      <th>ENSG00000001167.14</th>\n",
       "      <th>...</th>\n",
       "      <th>ENSG00000282785.1</th>\n",
       "      <th>ENSG00000282787.1</th>\n",
       "      <th>ENSG00000282793.1</th>\n",
       "      <th>ENSG00000282795.1</th>\n",
       "      <th>ENSG00000282798.1</th>\n",
       "      <th>ENSG00000282804.1</th>\n",
       "      <th>ENSG00000282807.1</th>\n",
       "      <th>ENSG00000282815.1</th>\n",
       "      <th>ENSG00000282816.1</th>\n",
       "      <th>Target</th>\n",
       "    </tr>\n",
       "  </thead>\n",
       "  <tbody>\n",
       "    <tr>\n",
       "      <th>1008</th>\n",
       "      <td>11.15</td>\n",
       "      <td>2.4700</td>\n",
       "      <td>9.795</td>\n",
       "      <td>9.050</td>\n",
       "      <td>7.088</td>\n",
       "      <td>10.750</td>\n",
       "      <td>13.040</td>\n",
       "      <td>12.30</td>\n",
       "      <td>11.09</td>\n",
       "      <td>9.325</td>\n",
       "      <td>...</td>\n",
       "      <td>0.0</td>\n",
       "      <td>2.139</td>\n",
       "      <td>0.0</td>\n",
       "      <td>0.000</td>\n",
       "      <td>0.000</td>\n",
       "      <td>0.0</td>\n",
       "      <td>1.709</td>\n",
       "      <td>0.00</td>\n",
       "      <td>0.0</td>\n",
       "      <td>3.0</td>\n",
       "    </tr>\n",
       "    <tr>\n",
       "      <th>1009</th>\n",
       "      <td>11.07</td>\n",
       "      <td>0.8560</td>\n",
       "      <td>9.356</td>\n",
       "      <td>9.224</td>\n",
       "      <td>7.485</td>\n",
       "      <td>10.630</td>\n",
       "      <td>12.870</td>\n",
       "      <td>12.26</td>\n",
       "      <td>11.15</td>\n",
       "      <td>10.250</td>\n",
       "      <td>...</td>\n",
       "      <td>0.0</td>\n",
       "      <td>2.551</td>\n",
       "      <td>0.0</td>\n",
       "      <td>0.856</td>\n",
       "      <td>4.990</td>\n",
       "      <td>0.0</td>\n",
       "      <td>0.000</td>\n",
       "      <td>1.39</td>\n",
       "      <td>0.0</td>\n",
       "      <td>3.0</td>\n",
       "    </tr>\n",
       "    <tr>\n",
       "      <th>1010</th>\n",
       "      <td>10.60</td>\n",
       "      <td>0.7464</td>\n",
       "      <td>9.460</td>\n",
       "      <td>8.127</td>\n",
       "      <td>6.583</td>\n",
       "      <td>8.637</td>\n",
       "      <td>7.772</td>\n",
       "      <td>11.99</td>\n",
       "      <td>11.13</td>\n",
       "      <td>9.385</td>\n",
       "      <td>...</td>\n",
       "      <td>0.0</td>\n",
       "      <td>0.000</td>\n",
       "      <td>0.0</td>\n",
       "      <td>0.000</td>\n",
       "      <td>2.828</td>\n",
       "      <td>0.0</td>\n",
       "      <td>0.000</td>\n",
       "      <td>0.00</td>\n",
       "      <td>0.0</td>\n",
       "      <td>3.0</td>\n",
       "    </tr>\n",
       "    <tr>\n",
       "      <th>1011</th>\n",
       "      <td>11.11</td>\n",
       "      <td>2.3920</td>\n",
       "      <td>10.170</td>\n",
       "      <td>9.460</td>\n",
       "      <td>7.405</td>\n",
       "      <td>7.926</td>\n",
       "      <td>13.470</td>\n",
       "      <td>11.65</td>\n",
       "      <td>10.65</td>\n",
       "      <td>10.170</td>\n",
       "      <td>...</td>\n",
       "      <td>0.0</td>\n",
       "      <td>2.183</td>\n",
       "      <td>0.0</td>\n",
       "      <td>0.000</td>\n",
       "      <td>4.170</td>\n",
       "      <td>0.0</td>\n",
       "      <td>0.000</td>\n",
       "      <td>0.00</td>\n",
       "      <td>0.0</td>\n",
       "      <td>3.0</td>\n",
       "    </tr>\n",
       "    <tr>\n",
       "      <th>1012</th>\n",
       "      <td>11.39</td>\n",
       "      <td>0.0000</td>\n",
       "      <td>9.991</td>\n",
       "      <td>8.273</td>\n",
       "      <td>6.892</td>\n",
       "      <td>11.940</td>\n",
       "      <td>10.160</td>\n",
       "      <td>13.72</td>\n",
       "      <td>11.61</td>\n",
       "      <td>9.010</td>\n",
       "      <td>...</td>\n",
       "      <td>0.0</td>\n",
       "      <td>2.498</td>\n",
       "      <td>0.0</td>\n",
       "      <td>0.000</td>\n",
       "      <td>0.000</td>\n",
       "      <td>0.0</td>\n",
       "      <td>0.000</td>\n",
       "      <td>0.00</td>\n",
       "      <td>0.0</td>\n",
       "      <td>3.0</td>\n",
       "    </tr>\n",
       "  </tbody>\n",
       "</table>\n",
       "<p>5 rows × 53798 columns</p>\n",
       "</div>"
      ],
      "text/plain": [
       "      ENSG00000000003.14  ENSG00000000005.5  ENSG00000000419.12  \\\n",
       "1008               11.15             2.4700               9.795   \n",
       "1009               11.07             0.8560               9.356   \n",
       "1010               10.60             0.7464               9.460   \n",
       "1011               11.11             2.3920              10.170   \n",
       "1012               11.39             0.0000               9.991   \n",
       "\n",
       "      ENSG00000000457.13  ENSG00000000460.16  ENSG00000000938.12  \\\n",
       "1008               9.050               7.088              10.750   \n",
       "1009               9.224               7.485              10.630   \n",
       "1010               8.127               6.583               8.637   \n",
       "1011               9.460               7.405               7.926   \n",
       "1012               8.273               6.892              11.940   \n",
       "\n",
       "      ENSG00000000971.15  ENSG00000001036.13  ENSG00000001084.10  \\\n",
       "1008              13.040               12.30               11.09   \n",
       "1009              12.870               12.26               11.15   \n",
       "1010               7.772               11.99               11.13   \n",
       "1011              13.470               11.65               10.65   \n",
       "1012              10.160               13.72               11.61   \n",
       "\n",
       "      ENSG00000001167.14  ...  ENSG00000282785.1  ENSG00000282787.1  \\\n",
       "1008               9.325  ...                0.0              2.139   \n",
       "1009              10.250  ...                0.0              2.551   \n",
       "1010               9.385  ...                0.0              0.000   \n",
       "1011              10.170  ...                0.0              2.183   \n",
       "1012               9.010  ...                0.0              2.498   \n",
       "\n",
       "      ENSG00000282793.1  ENSG00000282795.1  ENSG00000282798.1  \\\n",
       "1008                0.0              0.000              0.000   \n",
       "1009                0.0              0.856              4.990   \n",
       "1010                0.0              0.000              2.828   \n",
       "1011                0.0              0.000              4.170   \n",
       "1012                0.0              0.000              0.000   \n",
       "\n",
       "      ENSG00000282804.1  ENSG00000282807.1  ENSG00000282815.1  \\\n",
       "1008                0.0              1.709               0.00   \n",
       "1009                0.0              0.000               1.39   \n",
       "1010                0.0              0.000               0.00   \n",
       "1011                0.0              0.000               0.00   \n",
       "1012                0.0              0.000               0.00   \n",
       "\n",
       "      ENSG00000282816.1  Target  \n",
       "1008                0.0     3.0  \n",
       "1009                0.0     3.0  \n",
       "1010                0.0     3.0  \n",
       "1011                0.0     3.0  \n",
       "1012                0.0     3.0  \n",
       "\n",
       "[5 rows x 53798 columns]"
      ]
     },
     "execution_count": 76,
     "metadata": {},
     "output_type": "execute_result"
    }
   ],
   "source": [
    "df_norm_papill = pd.concat([normal_kidney_df, papill_kidney_df])\n",
    "df_norm_papill.tail()"
   ]
  },
  {
   "cell_type": "code",
   "execution_count": 77,
   "metadata": {},
   "outputs": [],
   "source": [
    "features = list(df_norm_clearc.columns[:-1])\n",
    "y = df_norm_papill[\"Target\"]\n",
    "X = df_norm_papill[features]"
   ]
  },
  {
   "cell_type": "code",
   "execution_count": 78,
   "metadata": {},
   "outputs": [
    {
     "data": {
      "text/plain": [
       "RandomForestClassifier(bootstrap=True, class_weight=None, criterion='gini',\n",
       "            max_depth=None, max_features='auto', max_leaf_nodes=None,\n",
       "            min_impurity_decrease=0.0, min_impurity_split=None,\n",
       "            min_samples_leaf=1, min_samples_split=2,\n",
       "            min_weight_fraction_leaf=0.0, n_estimators=200, n_jobs=None,\n",
       "            oob_score=False, random_state=None, verbose=0,\n",
       "            warm_start=False)"
      ]
     },
     "execution_count": 78,
     "metadata": {},
     "output_type": "execute_result"
    }
   ],
   "source": [
    "dt = RandomForestClassifier(n_estimators=200) # min_samples_split=5, random_state=99\n",
    "# dt = DecisionTreeClassifier() # min_samples_split=5, random_state=99\n",
    "dt.fit(X, y)"
   ]
  },
  {
   "cell_type": "code",
   "execution_count": 79,
   "metadata": {},
   "outputs": [
    {
     "data": {
      "image/png": "[encoded data removed]",
      "text/plain": [
       "<Figure size 432x288 with 1 Axes>"
      ]
     },
     "metadata": {
      "needs_background": "light"
     },
     "output_type": "display_data"
    }
   ],
   "source": [
    "f_importance = dt.feature_importances_\n",
    "indices = np.argsort(f_importance)[-200:]  # top 10 features\n",
    "plt.title('Feature Importances')\n",
    "plt.barh(range(len(indices)), f_importance[indices], color='black', align='center')\n",
    "# plt.yticks(range(len(indices)), [features[i] for i in indices])\n",
    "plt.ylabel('Features (unlabled)')\n",
    "plt.xlabel('Relative Importance')\n",
    "plt.show()"
   ]
  },
  {
   "cell_type": "markdown",
   "metadata": {},
   "source": [
    "Again, top 15 seem to hold most of the weighting, possibly top 40. "
   ]
  },
  {
   "cell_type": "code",
   "execution_count": null,
   "metadata": {},
   "outputs": [],
   "source": [
    "indices = np.argsort(f_importance)[-40:]\n",
    "important_feature_norm_papill = [features[i] for i in indices]\n",
    "print(important_feature_norm_papill)"
   ]
  },
  {
   "cell_type": "code",
   "execution_count": 81,
   "metadata": {},
   "outputs": [
    {
     "data": {
      "image/png": "[encoded data removed]",
      "text/plain": [
       "<Figure size 432x288 with 1 Axes>"
      ]
     },
     "metadata": {
      "needs_background": "light"
     },
     "output_type": "display_data"
    }
   ],
   "source": [
    "f_importance = dt.feature_importances_\n",
    "indices = np.argsort(f_importance)[-20:]  # top 10 features\n",
    "plt.title('Feature Importances')\n",
    "plt.barh(range(len(indices)), f_importance[indices], color='b', align='center')\n",
    "plt.yticks(range(len(indices)), [features[i] for i in indices])\n",
    "plt.xlabel('Relative Importance')\n",
    "plt.show()"
   ]
  },
  {
   "cell_type": "markdown",
   "metadata": {},
   "source": [
    "Check what features they have in common"
   ]
  },
  {
   "cell_type": "code",
   "execution_count": 82,
   "metadata": {},
   "outputs": [],
   "source": [
    "a= important_feature_norm_chrome\n",
    "b= important_feature_norm_clear\n",
    "c= important_feature_norm_papill"
   ]
  },
  {
   "cell_type": "code",
   "execution_count": 100,
   "metadata": {},
   "outputs": [
    {
     "data": {
      "text/plain": [
       "('ENSG00000125967.16', 'ENSG00000223728.3', 'ENSG00000224417.2')"
      ]
     },
     "execution_count": 100,
     "metadata": {},
     "output_type": "execute_result"
    }
   ],
   "source": [
    "a[-1], a[-2], a[-3]"
   ]
  },
  {
   "cell_type": "code",
   "execution_count": 101,
   "metadata": {},
   "outputs": [
    {
     "data": {
      "text/plain": [
       "('ENSG00000139144.9', 'ENSG00000254789.1', 'ENSG00000147257.13')"
      ]
     },
     "execution_count": 101,
     "metadata": {},
     "output_type": "execute_result"
    }
   ],
   "source": [
    "b[-1], b[-2], b[-3]"
   ]
  },
  {
   "cell_type": "code",
   "execution_count": 99,
   "metadata": {},
   "outputs": [
    {
     "data": {
      "text/plain": [
       "('ENSG00000281769.1', 'ENSG00000249601.2', 'ENSG00000158955.10')"
      ]
     },
     "execution_count": 99,
     "metadata": {},
     "output_type": "execute_result"
    }
   ],
   "source": [
    "c[-1], c[-2], c[-3]"
   ]
  },
  {
   "cell_type": "code",
   "execution_count": 84,
   "metadata": {},
   "outputs": [
    {
     "data": {
      "text/plain": [
       "{'ENSG00000128045.6', 'ENSG00000254789.1'}"
      ]
     },
     "execution_count": 84,
     "metadata": {},
     "output_type": "execute_result"
    }
   ],
   "source": [
    "set(b).intersection(c)"
   ]
  },
  {
   "cell_type": "code",
   "execution_count": 85,
   "metadata": {},
   "outputs": [
    {
     "data": {
      "text/plain": [
       "set()"
      ]
     },
     "execution_count": 85,
     "metadata": {},
     "output_type": "execute_result"
    }
   ],
   "source": [
    "set(b).intersection(a)"
   ]
  },
  {
   "cell_type": "code",
   "execution_count": 86,
   "metadata": {},
   "outputs": [
    {
     "data": {
      "text/plain": [
       "{'ENSG00000066230.10', 'ENSG00000167580.7'}"
      ]
     },
     "execution_count": 86,
     "metadata": {},
     "output_type": "execute_result"
    }
   ],
   "source": [
    "set(c).intersection(a)"
   ]
  },
  {
   "cell_type": "markdown",
   "metadata": {},
   "source": [
    "Only Clear and papill have features in common. "
   ]
  },
  {
   "cell_type": "markdown",
   "metadata": {},
   "source": [
    "Try using a binary classifer to get the most important features and try again to see if we get the same results"
   ]
  },
  {
   "cell_type": "code",
   "execution_count": 92,
   "metadata": {},
   "outputs": [
    {
     "name": "stdout",
     "output_type": "stream",
     "text": [
      "33 5\n",
      "17 25\n"
     ]
    }
   ],
   "source": [
    "print(a.index('ENSG00000167580.7'), c.index('ENSG00000167580.7'))\n",
    "print(a.index('ENSG00000066230.10'), c.index('ENSG00000066230.10'))"
   ]
  },
  {
   "cell_type": "code",
   "execution_count": 94,
   "metadata": {},
   "outputs": [
    {
     "name": "stdout",
     "output_type": "stream",
     "text": [
      "5 4\n",
      "38 27\n"
     ]
    }
   ],
   "source": [
    "print(b.index('ENSG00000128045.6'), c.index('ENSG00000128045.6'))\n",
    "print(b.index('ENSG00000254789.1'), c.index('ENSG00000254789.1'))\n"
   ]
  },
  {
   "cell_type": "markdown",
   "metadata": {},
   "source": [
    "#### All combined"
   ]
  },
  {
   "cell_type": "code",
   "execution_count": 102,
   "metadata": {},
   "outputs": [],
   "source": [
    "features = list(df_kidney.columns[:-1])\n",
    "y = df_kidney[\"Target\"]\n",
    "X = df_kidney[features]"
   ]
  },
  {
   "cell_type": "code",
   "execution_count": 103,
   "metadata": {},
   "outputs": [
    {
     "data": {
      "text/plain": [
       "RandomForestClassifier(bootstrap=True, class_weight=None, criterion='gini',\n",
       "            max_depth=None, max_features='auto', max_leaf_nodes=None,\n",
       "            min_impurity_decrease=0.0, min_impurity_split=None,\n",
       "            min_samples_leaf=1, min_samples_split=2,\n",
       "            min_weight_fraction_leaf=0.0, n_estimators=200, n_jobs=None,\n",
       "            oob_score=False, random_state=None, verbose=0,\n",
       "            warm_start=False)"
      ]
     },
     "execution_count": 103,
     "metadata": {},
     "output_type": "execute_result"
    }
   ],
   "source": [
    "dt = RandomForestClassifier(n_estimators=200)\n",
    "# dt = DecisionTreeClassifier() # min_samples_split=5, random_state=99\n",
    "dt.fit(X, y)"
   ]
  },
  {
   "cell_type": "code",
   "execution_count": 104,
   "metadata": {
    "scrolled": false
   },
   "outputs": [
    {
     "data": {
      "image/png": "[encoded data removed]",
      "text/plain": [
       "<Figure size 432x288 with 1 Axes>"
      ]
     },
     "metadata": {
      "needs_background": "light"
     },
     "output_type": "display_data"
    }
   ],
   "source": [
    "f_importance = dt.feature_importances_\n",
    "indices = np.argsort(f_importance)[-100:]  # top 10 features\n",
    "plt.title('Feature Importances')\n",
    "plt.barh(range(len(indices)), f_importance[indices], color='b', align='center')\n",
    "# plt.yticks(range(len(indices)), [features[i] for i in indices])\n",
    "plt.xlabel('Relative Importance')\n",
    "plt.show()"
   ]
  },
  {
   "cell_type": "code",
   "execution_count": 105,
   "metadata": {
    "scrolled": true
   },
   "outputs": [
    {
     "name": "stdout",
     "output_type": "stream",
     "text": [
      "['ENSG00000143603.18', 'ENSG00000147113.16', 'ENSG00000161381.13', 'ENSG00000081189.13', 'ENSG00000187730.7', 'ENSG00000129521.13', 'ENSG00000177464.4', 'ENSG00000178202.12', 'ENSG00000256540.1', 'ENSG00000164434.11', 'ENSG00000163492.13', 'ENSG00000135245.9', 'ENSG00000253882.6', 'ENSG00000164342.12', 'ENSG00000128284.19']\n"
     ]
    }
   ],
   "source": [
    "indices = np.argsort(f_importance)[-15:] \n",
    "feature_rank_all = [features[i] for i in indices]\n",
    "print(feature_rank_all)"
   ]
  },
  {
   "cell_type": "code",
   "execution_count": 106,
   "metadata": {},
   "outputs": [
    {
     "data": {
      "image/png": "[encoded data removed]",
      "text/plain": [
       "<Figure size 432x288 with 1 Axes>"
      ]
     },
     "metadata": {
      "needs_background": "light"
     },
     "output_type": "display_data"
    }
   ],
   "source": [
    "f_importance = dt.feature_importances_\n",
    "indices = np.argsort(f_importance)[-10:]  # top 10 features\n",
    "plt.title('Feature Importances')\n",
    "plt.barh(range(len(indices)), f_importance[indices], color='b', align='center')\n",
    "plt.yticks(range(len(indices)), [features[i] for i in indices])\n",
    "plt.xlabel('Relative Importance')\n",
    "plt.show()"
   ]
  },
  {
   "cell_type": "code",
   "execution_count": null,
   "metadata": {},
   "outputs": [],
   "source": [
    "joint = set(feature_rank).intersection(feature_rank1)\n",
    "print(joint, len(joint))"
   ]
  },
  {
   "cell_type": "code",
   "execution_count": 64,
   "metadata": {},
   "outputs": [
    {
     "data": {
      "text/plain": [
       "[<matplotlib.lines.Line2D at 0x22415a468d0>]"
      ]
     },
     "execution_count": 64,
     "metadata": {},
     "output_type": "execute_result"
    },
    {
     "data": {
      "image/png": "[encoded data removed]",
      "text/plain": [
       "<Figure size 432x288 with 1 Axes>"
      ]
     },
     "metadata": {
      "needs_background": "light"
     },
     "output_type": "display_data"
    }
   ],
   "source": [
    "test = list(df_kidney[feature_rank[-1]])\n",
    "print(feature_rank[-1])\n",
    "plt.plot(test)\n"
   ]
  },
  {
   "cell_type": "code",
   "execution_count": 65,
   "metadata": {},
   "outputs": [
    {
     "name": "stdout",
     "output_type": "stream",
     "text": [
      "ENSG00000004939.13\n"
     ]
    },
    {
     "data": {
      "text/plain": [
       "[<matplotlib.lines.Line2D at 0x22415aa6d68>]"
      ]
     },
     "execution_count": 65,
     "metadata": {},
     "output_type": "execute_result"
    },
    {
     "data": {
      "image/png": "[encoded data removed]",
      "text/plain": [
       "<Figure size 432x288 with 1 Axes>"
      ]
     },
     "metadata": {
      "needs_background": "light"
     },
     "output_type": "display_data"
    }
   ],
   "source": [
    "test = list(df_kidney[feature_rank[-2]])\n",
    "print(feature_rank[-2])\n",
    "plt.plot(test)"
   ]
  },
  {
   "cell_type": "code",
   "execution_count": null,
   "metadata": {},
   "outputs": [],
   "source": [
    "test = list(df_kidney[feature_rank[-3]])\n",
    "print(feature_rank[-3])\n",
    "plt.plot(test)"
   ]
  },
  {
   "cell_type": "code",
   "execution_count": 108,
   "metadata": {},
   "outputs": [],
   "source": [
    "def visualize_tree(tree, feature_names):\n",
    "    \"\"\"Create tree png using graphviz.\n",
    "\n",
    "    Args\n",
    "    ----\n",
    "    tree -- scikit-learn DecsisionTree.\n",
    "    feature_names -- list of feature names.\n",
    "    \"\"\"\n",
    "    with open(\"dt.dot\", 'w') as f:\n",
    "        export_graphviz(tree, out_file=f,\n",
    "                        feature_names=feature_names)\n",
    "\n",
    "    command = [\"dot\", \"-Tpng\", \"dt.dot\", \"-o\", \"dt.png\"]\n",
    "    try:\n",
    "        subprocess.check_call(command)\n",
    "    except:\n",
    "        exit(\"Could not run dot, ie graphviz, to \"\n",
    "             \"produce visualization\")\n"
   ]
  },
  {
   "cell_type": "code",
   "execution_count": 109,
   "metadata": {},
   "outputs": [
    {
     "data": {
      "text/plain": [
       "DecisionTreeClassifier(class_weight=None, criterion='gini', max_depth=None,\n",
       "            max_features=None, max_leaf_nodes=None,\n",
       "            min_impurity_decrease=0.0, min_impurity_split=None,\n",
       "            min_samples_leaf=1, min_samples_split=2,\n",
       "            min_weight_fraction_leaf=0.0, presort=False, random_state=None,\n",
       "            splitter='best')"
      ]
     },
     "execution_count": 109,
     "metadata": {},
     "output_type": "execute_result"
    }
   ],
   "source": [
    "# dt = RandomForestClassifier(n_estimators=200)\n",
    "dt_all = DecisionTreeClassifier() # min_samples_split=5, random_state=99\n",
    "dt_all.fit(X, y)"
   ]
  },
  {
   "cell_type": "code",
   "execution_count": 110,
   "metadata": {},
   "outputs": [],
   "source": [
    "visualize_tree(dt_all, features)"
   ]
  },
  {
   "cell_type": "markdown",
   "metadata": {},
   "source": [
    "Are the top features in descision tree the same ones that found in random forest?"
   ]
  },
  {
   "cell_type": "code",
   "execution_count": 111,
   "metadata": {},
   "outputs": [
    {
     "name": "stdout",
     "output_type": "stream",
     "text": [
      "['ENSG00000074054.17', 'ENSG00000170348.8', 'ENSG00000273344.1', 'ENSG00000276664.1', 'ENSG00000242110.7', 'ENSG00000104375.15', 'ENSG00000099814.15', 'ENSG00000182168.14', 'ENSG00000186451.1', 'ENSG00000130234.10', 'ENSG00000236565.3', 'ENSG00000279473.1', 'ENSG00000225329.3', 'ENSG00000004939.13', 'ENSG00000129521.13']\n"
     ]
    }
   ],
   "source": [
    "f_importance = dt_all.feature_importances_\n",
    "indices = np.argsort(f_importance)[-15:] \n",
    "feature_rank_all_at = [features[i] for i in indices]\n",
    "print(feature_rank_all_at)"
   ]
  },
  {
   "cell_type": "code",
   "execution_count": 112,
   "metadata": {},
   "outputs": [
    {
     "data": {
      "text/plain": [
       "{'ENSG00000129521.13'}"
      ]
     },
     "execution_count": 112,
     "metadata": {},
     "output_type": "execute_result"
    }
   ],
   "source": [
    "set(feature_rank_all).intersection(feature_rank_all_at)"
   ]
  },
  {
   "cell_type": "markdown",
   "metadata": {},
   "source": [
    "ENSG00000129521.13 is the top branching at the top of the tree for both random forest and decsion tree"
   ]
  },
  {
   "cell_type": "markdown",
   "metadata": {},
   "source": [
    "## Can a ML algorithm differentiate between clear and chrome?"
   ]
  },
  {
   "cell_type": "code",
   "execution_count": 2,
   "metadata": {},
   "outputs": [],
   "source": [
    "from sklearn import linear_model"
   ]
  },
  {
   "cell_type": "code",
   "execution_count": 4,
   "metadata": {},
   "outputs": [],
   "source": [
    "normal_kidney_df = (df_kidney.loc[df_kidney['Target'] == 0])\n",
    "chrome_kidney_df = (df_kidney.loc[df_kidney['Target'] == 1])\n",
    "clearc_kidney_df = (df_kidney.loc[df_kidney['Target'] == 2])\n",
    "papill_kidney_df = (df_kidney.loc[df_kidney['Target'] == 3])\n",
    "\n",
    "normal_train=normal_kidney_df.sample(frac=0.8,random_state=200)\n",
    "normal_test=normal_kidney_df.drop(normal_train.index)\n",
    "\n",
    "chrome_train=chrome_kidney_df.sample(frac=0.8,random_state=200)\n",
    "chrome_test=chrome_kidney_df.drop(chrome_train.index)\n",
    "\n",
    "clearc_train=clearc_kidney_df.sample(frac=0.8,random_state=200)\n",
    "clearc_test=clearc_kidney_df.drop(clearc_train.index)\n",
    "\n",
    "papill_train=papill_kidney_df.sample(frac=0.8,random_state=200)\n",
    "papill_test=papill_kidney_df.drop(papill_train.index)"
   ]
  },
  {
   "cell_type": "code",
   "execution_count": 5,
   "metadata": {},
   "outputs": [],
   "source": [
    "df_kid_train = pd.concat([normal_train, chrome_train, clearc_train, papill_train])\n",
    "df_kid_test = pd.concat([normal_test, chrome_test, clearc_test, papill_test])"
   ]
  },
  {
   "cell_type": "code",
   "execution_count": 6,
   "metadata": {},
   "outputs": [
    {
     "data": {
      "text/html": [
       "<div>\n",
       "<style scoped>\n",
       "    .dataframe tbody tr th:only-of-type {\n",
       "        vertical-align: middle;\n",
       "    }\n",
       "\n",
       "    .dataframe tbody tr th {\n",
       "        vertical-align: top;\n",
       "    }\n",
       "\n",
       "    .dataframe thead th {\n",
       "        text-align: right;\n",
       "    }\n",
       "</style>\n",
       "<table border=\"1\" class=\"dataframe\">\n",
       "  <thead>\n",
       "    <tr style=\"text-align: right;\">\n",
       "      <th></th>\n",
       "      <th>Unnamed: 0</th>\n",
       "      <th>ENSG00000000003.14</th>\n",
       "      <th>ENSG00000000005.5</th>\n",
       "      <th>ENSG00000000419.12</th>\n",
       "      <th>ENSG00000000457.13</th>\n",
       "      <th>ENSG00000000460.16</th>\n",
       "      <th>ENSG00000000938.12</th>\n",
       "      <th>ENSG00000000971.15</th>\n",
       "      <th>ENSG00000001036.13</th>\n",
       "      <th>ENSG00000001084.10</th>\n",
       "      <th>...</th>\n",
       "      <th>ENSG00000282785.1</th>\n",
       "      <th>ENSG00000282787.1</th>\n",
       "      <th>ENSG00000282793.1</th>\n",
       "      <th>ENSG00000282795.1</th>\n",
       "      <th>ENSG00000282798.1</th>\n",
       "      <th>ENSG00000282804.1</th>\n",
       "      <th>ENSG00000282807.1</th>\n",
       "      <th>ENSG00000282815.1</th>\n",
       "      <th>ENSG00000282816.1</th>\n",
       "      <th>Target</th>\n",
       "    </tr>\n",
       "  </thead>\n",
       "  <tbody>\n",
       "    <tr>\n",
       "      <th>41</th>\n",
       "      <td>41</td>\n",
       "      <td>11.44</td>\n",
       "      <td>4.835</td>\n",
       "      <td>9.696</td>\n",
       "      <td>8.906</td>\n",
       "      <td>6.307</td>\n",
       "      <td>7.025</td>\n",
       "      <td>10.520</td>\n",
       "      <td>11.37</td>\n",
       "      <td>10.490</td>\n",
       "      <td>...</td>\n",
       "      <td>0.000</td>\n",
       "      <td>1.6870</td>\n",
       "      <td>0.000</td>\n",
       "      <td>3.2390</td>\n",
       "      <td>0.000</td>\n",
       "      <td>0.5302</td>\n",
       "      <td>0.000</td>\n",
       "      <td>0.0000</td>\n",
       "      <td>0.0</td>\n",
       "      <td>0.0</td>\n",
       "    </tr>\n",
       "    <tr>\n",
       "      <th>102</th>\n",
       "      <td>102</td>\n",
       "      <td>11.45</td>\n",
       "      <td>6.987</td>\n",
       "      <td>10.230</td>\n",
       "      <td>9.225</td>\n",
       "      <td>6.849</td>\n",
       "      <td>8.293</td>\n",
       "      <td>10.960</td>\n",
       "      <td>11.23</td>\n",
       "      <td>10.320</td>\n",
       "      <td>...</td>\n",
       "      <td>1.192</td>\n",
       "      <td>0.7156</td>\n",
       "      <td>0.000</td>\n",
       "      <td>0.0000</td>\n",
       "      <td>1.192</td>\n",
       "      <td>0.0000</td>\n",
       "      <td>0.000</td>\n",
       "      <td>0.0000</td>\n",
       "      <td>0.0</td>\n",
       "      <td>0.0</td>\n",
       "    </tr>\n",
       "    <tr>\n",
       "      <th>46</th>\n",
       "      <td>46</td>\n",
       "      <td>12.19</td>\n",
       "      <td>4.872</td>\n",
       "      <td>9.484</td>\n",
       "      <td>9.314</td>\n",
       "      <td>6.572</td>\n",
       "      <td>7.491</td>\n",
       "      <td>10.470</td>\n",
       "      <td>11.26</td>\n",
       "      <td>9.832</td>\n",
       "      <td>...</td>\n",
       "      <td>0.000</td>\n",
       "      <td>1.7300</td>\n",
       "      <td>0.000</td>\n",
       "      <td>0.5495</td>\n",
       "      <td>1.513</td>\n",
       "      <td>0.0000</td>\n",
       "      <td>0.000</td>\n",
       "      <td>0.0000</td>\n",
       "      <td>0.0</td>\n",
       "      <td>0.0</td>\n",
       "    </tr>\n",
       "    <tr>\n",
       "      <th>71</th>\n",
       "      <td>71</td>\n",
       "      <td>12.69</td>\n",
       "      <td>3.307</td>\n",
       "      <td>9.830</td>\n",
       "      <td>9.709</td>\n",
       "      <td>6.813</td>\n",
       "      <td>7.969</td>\n",
       "      <td>10.230</td>\n",
       "      <td>11.37</td>\n",
       "      <td>9.938</td>\n",
       "      <td>...</td>\n",
       "      <td>1.183</td>\n",
       "      <td>0.5097</td>\n",
       "      <td>0.000</td>\n",
       "      <td>0.5097</td>\n",
       "      <td>0.000</td>\n",
       "      <td>0.0000</td>\n",
       "      <td>0.000</td>\n",
       "      <td>0.5097</td>\n",
       "      <td>0.0</td>\n",
       "      <td>0.0</td>\n",
       "    </tr>\n",
       "    <tr>\n",
       "      <th>107</th>\n",
       "      <td>107</td>\n",
       "      <td>12.91</td>\n",
       "      <td>5.501</td>\n",
       "      <td>10.970</td>\n",
       "      <td>9.934</td>\n",
       "      <td>6.497</td>\n",
       "      <td>9.788</td>\n",
       "      <td>9.851</td>\n",
       "      <td>11.70</td>\n",
       "      <td>9.811</td>\n",
       "      <td>...</td>\n",
       "      <td>0.000</td>\n",
       "      <td>2.7300</td>\n",
       "      <td>1.384</td>\n",
       "      <td>1.3840</td>\n",
       "      <td>0.000</td>\n",
       "      <td>0.0000</td>\n",
       "      <td>0.852</td>\n",
       "      <td>0.0000</td>\n",
       "      <td>0.0</td>\n",
       "      <td>0.0</td>\n",
       "    </tr>\n",
       "  </tbody>\n",
       "</table>\n",
       "<p>5 rows × 53799 columns</p>\n",
       "</div>"
      ],
      "text/plain": [
       "     Unnamed: 0  ENSG00000000003.14  ENSG00000000005.5  ENSG00000000419.12  \\\n",
       "41           41               11.44              4.835               9.696   \n",
       "102         102               11.45              6.987              10.230   \n",
       "46           46               12.19              4.872               9.484   \n",
       "71           71               12.69              3.307               9.830   \n",
       "107         107               12.91              5.501              10.970   \n",
       "\n",
       "     ENSG00000000457.13  ENSG00000000460.16  ENSG00000000938.12  \\\n",
       "41                8.906               6.307               7.025   \n",
       "102               9.225               6.849               8.293   \n",
       "46                9.314               6.572               7.491   \n",
       "71                9.709               6.813               7.969   \n",
       "107               9.934               6.497               9.788   \n",
       "\n",
       "     ENSG00000000971.15  ENSG00000001036.13  ENSG00000001084.10  ...  \\\n",
       "41               10.520               11.37              10.490  ...   \n",
       "102              10.960               11.23              10.320  ...   \n",
       "46               10.470               11.26               9.832  ...   \n",
       "71               10.230               11.37               9.938  ...   \n",
       "107               9.851               11.70               9.811  ...   \n",
       "\n",
       "     ENSG00000282785.1  ENSG00000282787.1  ENSG00000282793.1  \\\n",
       "41               0.000             1.6870              0.000   \n",
       "102              1.192             0.7156              0.000   \n",
       "46               0.000             1.7300              0.000   \n",
       "71               1.183             0.5097              0.000   \n",
       "107              0.000             2.7300              1.384   \n",
       "\n",
       "     ENSG00000282795.1  ENSG00000282798.1  ENSG00000282804.1  \\\n",
       "41              3.2390              0.000             0.5302   \n",
       "102             0.0000              1.192             0.0000   \n",
       "46              0.5495              1.513             0.0000   \n",
       "71              0.5097              0.000             0.0000   \n",
       "107             1.3840              0.000             0.0000   \n",
       "\n",
       "     ENSG00000282807.1  ENSG00000282815.1  ENSG00000282816.1  Target  \n",
       "41               0.000             0.0000                0.0     0.0  \n",
       "102              0.000             0.0000                0.0     0.0  \n",
       "46               0.000             0.0000                0.0     0.0  \n",
       "71               0.000             0.5097                0.0     0.0  \n",
       "107              0.852             0.0000                0.0     0.0  \n",
       "\n",
       "[5 rows x 53799 columns]"
      ]
     },
     "execution_count": 6,
     "metadata": {},
     "output_type": "execute_result"
    }
   ],
   "source": [
    "df_kid_train.head()"
   ]
  },
  {
   "cell_type": "code",
   "execution_count": 7,
   "metadata": {},
   "outputs": [],
   "source": [
    "features = list(df_kid_train.columns[:-1])\n",
    "y = df_kid_train[\"Target\"]\n",
    "X = df_kid_train[features]"
   ]
  },
  {
   "cell_type": "code",
   "execution_count": 8,
   "metadata": {},
   "outputs": [
    {
     "data": {
      "text/plain": [
       "SGDClassifier(alpha=0.0001, average=False, class_weight=None,\n",
       "       early_stopping=False, epsilon=0.1, eta0=0.0, fit_intercept=True,\n",
       "       l1_ratio=0.15, learning_rate='optimal', loss='hinge', max_iter=1000,\n",
       "       n_iter=None, n_iter_no_change=5, n_jobs=None, penalty='l2',\n",
       "       power_t=0.5, random_state=None, shuffle=True, tol=0.001,\n",
       "       validation_fraction=0.1, verbose=0, warm_start=False)"
      ]
     },
     "execution_count": 8,
     "metadata": {},
     "output_type": "execute_result"
    }
   ],
   "source": [
    "clf = linear_model.SGDClassifier(max_iter=1000, tol=1e-3, shuffle=True) # max_iter=1000, tol=1e-3\n",
    "clf.fit(X, y)"
   ]
  },
  {
   "cell_type": "code",
   "execution_count": 9,
   "metadata": {},
   "outputs": [],
   "source": [
    "X_test = df_kid_test[features]\n",
    "y_test = df_kid_test[\"Target\"]"
   ]
  },
  {
   "cell_type": "code",
   "execution_count": 10,
   "metadata": {},
   "outputs": [
    {
     "name": "stdout",
     "output_type": "stream",
     "text": [
      "train score: 0.9950617283950617\n",
      "test score: 0.9901477832512315\n"
     ]
    }
   ],
   "source": [
    "print('train score:' , clf.score(X,y) )\n",
    "print('test score:', clf.score(X_test,y_test) ) # <- this is the right score"
   ]
  },
  {
   "cell_type": "code",
   "execution_count": 398,
   "metadata": {
    "scrolled": true
   },
   "outputs": [],
   "source": [
    "test_predict = list(clf.predict(X_test))\n",
    "test_actual = list(y_test)"
   ]
  },
  {
   "cell_type": "code",
   "execution_count": 410,
   "metadata": {},
   "outputs": [
    {
     "name": "stdout",
     "output_type": "stream",
     "text": [
      "1.0\n",
      "0.8461538461538461\n",
      "0.9056603773584906\n",
      "0.9827586206896551\n"
     ]
    }
   ],
   "source": [
    "print(clf.score(normal_test[features],normal_test['Target']))\n",
    "print(clf.score(chrome_test[features],chrome_test['Target']))\n",
    "print(clf.score(clearc_test[features],clearc_test['Target']))\n",
    "print(clf.score(papill_test[features],papill_test['Target']))"
   ]
  },
  {
   "cell_type": "code",
   "execution_count": 406,
   "metadata": {},
   "outputs": [
    {
     "name": "stdout",
     "output_type": "stream",
     "text": [
      "0.9359605911330049\n",
      "[1, 1, 1, 1, 1, 1, 1, 1, 1, 1, 1, 1, 1, 1, 1, 1, 1, 1, 1, 1, 1, 1, 1, 1, 1, 1, 1, 1, 1, 1, 1, 1, 1, 0, 1, 0, 1, 1, 1, 1, 1, 0, 1, 1, 1, 1, 1, 1, 1, 0, 1, 1, 1, 0, 1, 1, 1, 1, 1, 1, 1, 1, 1, 1, 1, 1, 0, 0, 1, 1, 0, 1, 0, 1, 1, 1, 1, 1, 1, 0, 1, 1, 1, 1, 1, 1, 1, 1, 1, 1, 1, 1, 1, 1, 1, 0, 1, 1, 1, 1, 1, 1, 1, 1, 1, 1, 1, 1, 1, 1, 1, 1, 1, 1, 1, 1, 1, 1, 1, 1, 1, 1, 1, 1, 1, 1, 1, 1, 1, 1, 1, 1, 1, 1, 1, 1, 1, 1, 1, 1, 0, 1, 1, 1, 1, 1, 1, 1, 1, 1, 1, 1, 0, 1, 1, 1, 1, 1, 1, 1, 1, 1, 1, 1, 1, 1, 1, 1, 1, 1, 1, 1, 1, 1, 1, 1, 1, 1, 1, 1, 1, 1, 1, 1, 1, 1, 1, 1, 1, 1, 1, 1, 1, 1, 1, 1, 1, 1, 1, 1, 1, 1, 1]\n"
     ]
    }
   ],
   "source": [
    "score = 0\n",
    "compare = []\n",
    "for i, j in zip(test_actual, test_predict):\n",
    "    if i == j:\n",
    "        score +=1\n",
    "        compare += [1]\n",
    "    else:\n",
    "        compare += [0]\n",
    "print(score/len(test_actual))\n",
    "print(compare)"
   ]
  },
  {
   "cell_type": "code",
   "execution_count": 416,
   "metadata": {},
   "outputs": [
    {
     "data": {
      "text/plain": [
       "<matplotlib.collections.PathCollection at 0x20813158a58>"
      ]
     },
     "execution_count": 416,
     "metadata": {},
     "output_type": "execute_result"
    },
    {
     "data": {
      "image/png": "[encoded data removed]",
      "text/plain": [
       "<Figure size 432x288 with 1 Axes>"
      ]
     },
     "metadata": {
      "needs_background": "light"
     },
     "output_type": "display_data"
    }
   ],
   "source": [
    "plt.scatter(range(len(compare)), compare) "
   ]
  },
  {
   "cell_type": "code",
   "execution_count": 420,
   "metadata": {},
   "outputs": [
    {
     "data": {
      "text/plain": [
       "144.0"
      ]
     },
     "execution_count": 420,
     "metadata": {},
     "output_type": "execute_result"
    }
   ],
   "source": [
    "720*0.2\n"
   ]
  },
  {
   "cell_type": "markdown",
   "metadata": {},
   "source": [
    "## Visualise Kidney Data"
   ]
  },
  {
   "cell_type": "code",
   "execution_count": 164,
   "metadata": {},
   "outputs": [],
   "source": [
    "\n",
    "from sklearn.discriminant_analysis import LinearDiscriminantAnalysis"
   ]
  },
  {
   "cell_type": "code",
   "execution_count": 253,
   "metadata": {},
   "outputs": [],
   "source": [
    "features = list(df_kidney.columns[:-1])\n",
    "y = df_kidney[\"Target\"]\n",
    "X = df_kidney[features]\n",
    "target_name = ['Normal','Chrome', 'Clear Cell', 'Papillary']"
   ]
  },
  {
   "cell_type": "code",
   "execution_count": 170,
   "metadata": {},
   "outputs": [
    {
     "name": "stderr",
     "output_type": "stream",
     "text": [
      "C:\\Users\\User_E\\Anaconda3\\lib\\site-packages\\sklearn\\discriminant_analysis.py:388: UserWarning: Variables are collinear.\n",
      "  warnings.warn(\"Variables are collinear.\")\n"
     ]
    }
   ],
   "source": [
    "# lda = LinearDiscriminantAnalysis(n_components=2)\n",
    "# X_r2 = lda.fit(X, y).transform(X)"
   ]
  },
  {
   "cell_type": "code",
   "execution_count": 254,
   "metadata": {
    "scrolled": false
   },
   "outputs": [
    {
     "data": {
      "text/plain": [
       "<Figure size 432x288 with 0 Axes>"
      ]
     },
     "metadata": {},
     "output_type": "display_data"
    },
    {
     "data": {
      "image/png": "[encoded data removed]",
      "text/plain": [
       "<Figure size 576x432 with 1 Axes>"
      ]
     },
     "metadata": {
      "needs_background": "light"
     },
     "output_type": "display_data"
    }
   ],
   "source": [
    "plt.figure()\n",
    "colors = ['navy', 'turquoise', 'darkorange', 'red']\n",
    "\n",
    "plt.figure(figsize=(8, 6))\n",
    "for color, i, target_name in zip(colors, [0, 1, 2,3], target_name):\n",
    "    plt.scatter(X_r2[y == i, 0], X_r2[y == i, 1], alpha=.8, color=color,\n",
    "                label=target_name)\n",
    "plt.legend(loc='best', shadow=False, scatterpoints=1)\n",
    "plt.title('LDA in 2D for Kidney Cancers')\n",
    "\n",
    "plt.show()"
   ]
  },
  {
   "cell_type": "markdown",
   "metadata": {},
   "source": [
    "See if it can cluster them into correct groups"
   ]
  },
  {
   "cell_type": "code",
   "execution_count": 212,
   "metadata": {},
   "outputs": [],
   "source": [
    "from sklearn.cluster import KMeans"
   ]
  },
  {
   "cell_type": "code",
   "execution_count": 219,
   "metadata": {},
   "outputs": [
    {
     "data": {
      "text/plain": [
       "[-23842.44455045311,\n",
       " -10011.983756169342,\n",
       " -1666.4848237070337,\n",
       " -1083.3192843226857,\n",
       " -912.1951431429658]"
      ]
     },
     "execution_count": 219,
     "metadata": {},
     "output_type": "execute_result"
    }
   ],
   "source": [
    "# # takes donkey years - do not run again\n",
    "# change the names of this stuff so i dont have to re run the other shit\n",
    "# Nc = range(1,6)\n",
    "\n",
    "# kmeans = [KMeans(n_clusters=i) for i in Nc]\n",
    "\n",
    "# kmeans\n",
    "\n",
    "# score = [kmeans[i].fit(X_r2).score(X_r2) for i in range(len(kmeans))]\n",
    "\n",
    "# score\n",
    "\n"
   ]
  },
  {
   "cell_type": "code",
   "execution_count": 220,
   "metadata": {},
   "outputs": [
    {
     "data": {
      "image/png": "[encoded data removed]",
      "text/plain": [
       "<Figure size 360x360 with 1 Axes>"
      ]
     },
     "metadata": {
      "needs_background": "light"
     },
     "output_type": "display_data"
    }
   ],
   "source": [
    "plt.figure(figsize=(5,5))\n",
    "plt.plot(Nc[:],score[:])\n",
    "\n",
    "plt.xlabel('Number of Clusters')\n",
    "# plt.xticks([7,8,9,10,11])\n",
    "plt.ylabel('Score')\n",
    "\n",
    "plt.title('Elbow graph')\n",
    "plt.show()"
   ]
  },
  {
   "cell_type": "code",
   "execution_count": 222,
   "metadata": {},
   "outputs": [],
   "source": [
    "kmeans_new = KMeans(n_clusters=3).fit(X_r2)\n",
    "clusters = kmeans_new.labels_.tolist()"
   ]
  },
  {
   "cell_type": "code",
   "execution_count": null,
   "metadata": {},
   "outputs": [],
   "source": []
  },
  {
   "cell_type": "code",
   "execution_count": 223,
   "metadata": {},
   "outputs": [
    {
     "data": {
      "text/plain": [
       "[-63389611.72344257,\n",
       " -53765568.54655956,\n",
       " -48747862.17671485,\n",
       " -45846137.41290659,\n",
       " -43910742.332323916]"
      ]
     },
     "execution_count": 223,
     "metadata": {},
     "output_type": "execute_result"
    }
   ],
   "source": [
    "# takes donkey years - do not run again\n",
    "\n",
    "Nc = range(1,6)\n",
    "\n",
    "kmeans = [KMeans(n_clusters=i) for i in Nc]\n",
    "\n",
    "kmeans\n",
    "\n",
    "score = [kmeans[i].fit(X).score(X) for i in range(len(kmeans))]\n",
    "\n",
    "score\n",
    "\n"
   ]
  },
  {
   "cell_type": "code",
   "execution_count": 224,
   "metadata": {},
   "outputs": [
    {
     "data": {
      "image/png": "[encoded data removed]",
      "text/plain": [
       "<Figure size 360x360 with 1 Axes>"
      ]
     },
     "metadata": {
      "needs_background": "light"
     },
     "output_type": "display_data"
    }
   ],
   "source": [
    "plt.figure(figsize=(5,5))\n",
    "plt.plot(Nc[:],score[:])\n",
    "\n",
    "plt.xlabel('Number of Clusters')\n",
    "# plt.xticks([7,8,9,10,11])\n",
    "plt.ylabel('Score')\n",
    "\n",
    "plt.title('Elbow graph')\n",
    "plt.show()"
   ]
  },
  {
   "cell_type": "code",
   "execution_count": null,
   "metadata": {},
   "outputs": [],
   "source": [
    "# kmeans_new = KMeans(n_clusters=4).fit(X)\n",
    "clusters = kmeans_new.labels_.tolist()\n",
    "print(clusters)\n"
   ]
  },
  {
   "cell_type": "code",
   "execution_count": 241,
   "metadata": {},
   "outputs": [
    {
     "data": {
      "text/plain": [
       "[137, 84, 512, 280]"
      ]
     },
     "execution_count": 241,
     "metadata": {},
     "output_type": "execute_result"
    }
   ],
   "source": [
    "clusters = [0, 0, 0, 0, 0, 0, 0, 0, 0, 0, 0, 0, 0, 0, 0, 0, 0, 0, 0, 0, 0, 0, 0, 0, 0, 0, 0, 0, 0, 0, 0, 0, 0, 0, 0, 0, 0, 0, 0, 0, 0, 0, 0, 0, 0, 0, 0, 0, 0, 0, 0, 0, 0, 0, 0, 0, 0, 0, 0, 0, 0, 0, 1, 0, 0, 0, 0, 0, 0, 0, 0, 0, 0, 0, 0, 0, 0, 0, 0, 0, 0, 0, 0, 0, 0, 0, 0, 0, 0, 0, 0, 0, 0, 0, 0, 0, 0, 0, 0, 0, 0, 0, 0, 0, 0, 0, 0, 0, 0, 0, 0, 0, 0, 0, 0, 0, 0, 0, 0, 0, 0, 0, 0, 0, 0, 0, 0, 0, 0, 3, 3, 3, 3, 3, 3, 3, 3, 3, 3, 3, 3, 3, 3, 3, 3, 3, 3, 3, 3, 3, 3, 3, 3, 3, 3, 3, 3, 3, 3, 3, 3, 3, 3, 3, 3, 3, 3, 3, 3, 3, 2, 3, 3, 3, 3, 3, 3, 3, 3, 3, 3, 3, 1, 3, 3, 3, 3, 3, 3, 3, 3, 3, 3, 3, 3, 1, 2, 1, 1, 1, 1, 2, 1, 1, 1, 1, 1, 1, 1, 1, 1, 3, 1, 1, 1, 1, 1, 1, 1, 1, 1, 1, 1, 1, 1, 2, 1, 1, 1, 1, 1, 3, 1, 1, 1, 1, 1, 1, 1, 1, 1, 1, 1, 1, 1, 1, 1, 1, 1, 3, 1, 1, 1, 3, 1, 1, 3, 3, 1, 1, 3, 1, 1, 0, 1, 1, 2, 1, 1, 1, 3, 0, 1, 2, 1, 1, 1, 1, 2, 1, 1, 3, 1, 1, 1, 1, 1, 1, 1, 1, 1, 1, 1, 1, 1, 1, 1, 1, 1, 1, 1, 1, 1, 1, 1, 1, 1, 3, 1, 1, 1, 1, 1, 1, 1, 1, 1, 1, 1, 1, 1, 1, 1, 1, 1, 1, 1, 3, 2, 1, 1, 1, 1, 1, 1, 1, 1, 1, 1, 1, 1, 1, 2, 1, 1, 1, 1, 1, 1, 3, 1, 1, 1, 1, 1, 1, 1, 1, 1, 1, 1, 1, 1, 1, 1, 1, 1, 1, 2, 1, 1, 1, 2, 1, 1, 1, 1, 1, 1, 3, 1, 2, 1, 1, 1, 1, 1, 1, 1, 1, 1, 1, 1, 1, 1, 2, 1, 1, 1, 1, 1, 1, 1, 1, 1, 1, 3, 1, 2, 1, 1, 1, 1, 1, 1, 1, 1, 0, 1, 1, 1, 1, 1, 1, 2, 1, 1, 1, 1, 1, 1, 1, 1, 1, 1, 1, 1, 1, 1, 1, 1, 1, 1, 1, 1, 1, 1, 1, 0, 1, 1, 1, 1, 1, 1, 1, 3, 1, 1, 1, 1, 1, 1, 1, 1, 1, 1, 1, 1, 1, 1, 1, 1, 2, 1, 1, 1, 1, 1, 1, 1, 1, 1, 1, 1, 1, 1, 1, 1, 1, 1, 1, 1, 1, 1, 1, 1, 1, 1, 1, 1, 1, 1, 1, 1, 1, 1, 1, 1, 1, 1, 1, 1, 1, 1, 1, 1, 1, 1, 1, 1, 1, 1, 1, 1, 1, 1, 1, 1, 1, 1, 1, 1, 3, 1, 1, 1, 1, 1, 1, 1, 1, 1, 1, 1, 1, 1, 1, 1, 1, 1, 1, 1, 1, 1, 1, 1, 1, 1, 1, 1, 1, 1, 1, 1, 1, 1, 1, 1, 1, 1, 1, 1, 1, 1, 1, 1, 1, 1, 1, 1, 1, 1, 1, 1, 1, 1, 1, 1, 1, 1, 1, 1, 1, 1, 1, 1, 1, 1, 1, 1, 1, 1, 1, 1, 1, 1, 1, 1, 1, 1, 1, 1, 1, 1, 1, 1, 1, 1, 1, 1, 1, 1, 1, 1, 1, 1, 1, 1, 1, 1, 1, 2, 1, 1, 1, 1, 1, 1, 1, 1, 1, 1, 1, 1, 1, 1, 1, 1, 1, 1, 1, 1, 0, 2, 1, 1, 1, 1, 1, 1, 1, 1, 1, 1, 1, 1, 1, 1, 1, 1, 1, 1, 1, 1, 1, 1, 1, 1, 1, 1, 1, 1, 1, 1, 1, 1, 1, 1, 1, 1, 1, 1, 1, 1, 1, 1, 1, 1, 1, 1, 1, 1, 1, 1, 1, 1, 0, 1, 1, 1, 1, 1, 1, 1, 1, 1, 1, 1, 1, 1, 1, 1, 1, 2, 2, 2, 2, 2, 2, 2, 2, 2, 1, 2, 2, 2, 2, 2, 1, 2, 2, 0, 2, 2, 2, 2, 2, 2, 2, 2, 1, 2, 1, 2, 2, 2, 2, 2, 2, 2, 2, 3, 2, 2, 2, 2, 2, 3, 2, 1, 2, 2, 2, 2, 2, 2, 1, 1, 2, 2, 2, 2, 0, 2, 2, 2, 2, 2, 2, 1, 2, 2, 2, 2, 2, 2, 2, 1, 2, 2, 2, 2, 1, 2, 2, 2, 2, 2, 2, 2, 2, 2, 2, 2, 2, 2, 2, 2, 1, 2, 2, 2, 2, 2, 2, 2, 2, 2, 2, 2, 2, 2, 2, 2, 2, 2, 2, 2, 2, 2, 2, 2, 2, 2, 2, 0, 2, 2, 2, 2, 2, 1, 2, 2, 2, 2, 2, 2, 2, 2, 2, 1, 2, 2, 2, 3, 2, 2, 2, 2, 2, 2, 2, 2, 2, 2, 2, 2, 2, 2, 2, 2, 2, 2, 2, 2, 2, 2, 2, 2, 2, 2, 2, 2, 2, 2, 1, 2, 2, 1, 2, 2, 2, 2, 2, 2, 2, 2, 2, 2, 2, 2, 2, 2, 2, 2, 2, 2, 2, 2, 2, 2, 1, 2, 2, 2, 2, 2, 2, 2, 2, 2, 2, 2, 2, 2, 2, 2, 2, 2, 2, 1, 1, 2, 2, 2, 2, 2, 2, 2, 2, 2, 2, 2, 3, 2, 2, 2, 2, 1, 2, 2, 2, 2, 2, 2, 2, 2, 2, 2, 2, 2, 2, 2, 2, 2, 2, 2, 2, 2, 2, 2, 2, 2, 2, 2, 2, 2, 2, 2, 2, 2, 2, 2, 2, 2, 2, 2, 2, 2, 2, 1, 2, 2, 2, 2, 2, 2, 2, 2, 2, 2]\n",
    "count = [clusters.count(0), clusters.count(3), clusters.count(1), clusters.count(2) ]\n",
    "count\n"
   ]
  },
  {
   "cell_type": "code",
   "execution_count": 236,
   "metadata": {},
   "outputs": [
    {
     "data": {
      "text/plain": [
       "[137, 84, 512, 280]"
      ]
     },
     "execution_count": 236,
     "metadata": {},
     "output_type": "execute_result"
    }
   ],
   "source": [
    "[129, 66 , 530, 288]\n",
    "[137, 84, 512, 280]"
   ]
  },
  {
   "cell_type": "code",
   "execution_count": null,
   "metadata": {},
   "outputs": [],
   "source": [
    "# seeing what happens when it groups as 3 \n",
    "kmeans_new3 = KMeans(n_clusters=3).fit(X)\n",
    "clusters3 = kmeans_new3.labels_.tolist()\n",
    "print(clusters3)"
   ]
  },
  {
   "cell_type": "code",
   "execution_count": 243,
   "metadata": {},
   "outputs": [
    {
     "name": "stdout",
     "output_type": "stream",
     "text": [
      "[220, 514, 279]\n"
     ]
    }
   ],
   "source": [
    "count3 = [clusters3.count(0), clusters3.count(1), clusters3.count(2) ]\n",
    "print(count3)"
   ]
  },
  {
   "cell_type": "code",
   "execution_count": null,
   "metadata": {},
   "outputs": [],
   "source": [
    "clusters2"
   ]
  },
  {
   "cell_type": "code",
   "execution_count": null,
   "metadata": {},
   "outputs": [],
   "source": [
    "kmeans_new2 = KMeans(n_clusters=2).fit(X)\n",
    "clusters2 = kmeans_new2.labels_.tolist()\n",
    "print(clusters2)\n"
   ]
  },
  {
   "cell_type": "code",
   "execution_count": 252,
   "metadata": {},
   "outputs": [
    {
     "name": "stdout",
     "output_type": "stream",
     "text": [
      "[486, 527]\n"
     ]
    }
   ],
   "source": [
    "count2 = [clusters2.count(1), clusters2.count(0)]\n",
    "print(count2)"
   ]
  },
  {
   "cell_type": "markdown",
   "metadata": {},
   "source": [
    "See which cancers it thinks belong where, can I plot all of these on the same graph?"
   ]
  },
  {
   "cell_type": "markdown",
   "metadata": {},
   "source": [
    "## Comparing the clusters to see which clusters it gets right/wrong"
   ]
  },
  {
   "cell_type": "code",
   "execution_count": 5,
   "metadata": {},
   "outputs": [
    {
     "name": "stdout",
     "output_type": "stream",
     "text": [
      "[129, 66, 530, 288]\n",
      "[137, 84, 512, 280]\n"
     ]
    }
   ],
   "source": [
    "print([129, 66 , 530, 288])\n",
    "print([137, 84, 512, 280])"
   ]
  },
  {
   "cell_type": "code",
   "execution_count": 31,
   "metadata": {},
   "outputs": [],
   "source": [
    "# k_clusters = [0, 0, 0, 0, 0, 0, 0, 0, 0, 0, 0, 0, 0, 0, 0, 0, 0, 0, 0, 0, 0, 0, 0, 0, 0, 0, 0, 0, 0, 0, 0, 0, 0, 0, 0, 0, 0, 0, 0, 0, 0, 0, 0, 0, 0, 0, 0, 0, 0, 0, 0, 0, 0, 0, 0, 0, 0, 0, 0, 0, 0, 0, 1, 0, 0, 0, 0, 0, 0, 0, 0, 0, 0, 0, 0, 0, 0, 0, 0, 0, 0, 0, 0, 0, 0, 0, 0, 0, 0, 0, 0, 0, 0, 0, 0, 0, 0, 0, 0, 0, 0, 0, 0, 0, 0, 0, 0, 0, 0, 0, 0, 0, 0, 0, 0, 0, 0, 0, 0, 0, 0, 0, 0, 0, 0, 0, 0, 0, 0, 3, 3, 3, 3, 3, 3, 3, 3, 3, 3, 3, 3, 3, 3, 3, 3, 3, 3, 3, 3, 3, 3, 3, 3, 3, 3, 3, 3, 3, 3, 3, 3, 3, 3, 3, 3, 3, 3, 3, 3, 3, 2, 3, 3, 3, 3, 3, 3, 3, 3, 3, 3, 3, 1, 3, 3, 3, 3, 3, 3, 3, 3, 3, 3, 3, 3, 1, 2, 1, 1, 1, 1, 2, 1, 1, 1, 1, 1, 1, 1, 1, 1, 3, 1, 1, 1, 1, 1, 1, 1, 1, 1, 1, 1, 1, 1, 2, 1, 1, 1, 1, 1, 3, 1, 1, 1, 1, 1, 1, 1, 1, 1, 1, 1, 1, 1, 1, 1, 1, 1, 3, 1, 1, 1, 3, 1, 1, 3, 3, 1, 1, 3, 1, 1, 0, 1, 1, 2, 1, 1, 1, 3, 0, 1, 2, 1, 1, 1, 1, 2, 1, 1, 3, 1, 1, 1, 1, 1, 1, 1, 1, 1, 1, 1, 1, 1, 1, 1, 1, 1, 1, 1, 1, 1, 1, 1, 1, 1, 3, 1, 1, 1, 1, 1, 1, 1, 1, 1, 1, 1, 1, 1, 1, 1, 1, 1, 1, 1, 3, 2, 1, 1, 1, 1, 1, 1, 1, 1, 1, 1, 1, 1, 1, 2, 1, 1, 1, 1, 1, 1, 3, 1, 1, 1, 1, 1, 1, 1, 1, 1, 1, 1, 1, 1, 1, 1, 1, 1, 1, 2, 1, 1, 1, 2, 1, 1, 1, 1, 1, 1, 3, 1, 2, 1, 1, 1, 1, 1, 1, 1, 1, 1, 1, 1, 1, 1, 2, 1, 1, 1, 1, 1, 1, 1, 1, 1, 1, 3, 1, 2, 1, 1, 1, 1, 1, 1, 1, 1, 0, 1, 1, 1, 1, 1, 1, 2, 1, 1, 1, 1, 1, 1, 1, 1, 1, 1, 1, 1, 1, 1, 1, 1, 1, 1, 1, 1, 1, 1, 1, 0, 1, 1, 1, 1, 1, 1, 1, 3, 1, 1, 1, 1, 1, 1, 1, 1, 1, 1, 1, 1, 1, 1, 1, 1, 2, 1, 1, 1, 1, 1, 1, 1, 1, 1, 1, 1, 1, 1, 1, 1, 1, 1, 1, 1, 1, 1, 1, 1, 1, 1, 1, 1, 1, 1, 1, 1, 1, 1, 1, 1, 1, 1, 1, 1, 1, 1, 1, 1, 1, 1, 1, 1, 1, 1, 1, 1, 1, 1, 1, 1, 1, 1, 1, 1, 3, 1, 1, 1, 1, 1, 1, 1, 1, 1, 1, 1, 1, 1, 1, 1, 1, 1, 1, 1, 1, 1, 1, 1, 1, 1, 1, 1, 1, 1, 1, 1, 1, 1, 1, 1, 1, 1, 1, 1, 1, 1, 1, 1, 1, 1, 1, 1, 1, 1, 1, 1, 1, 1, 1, 1, 1, 1, 1, 1, 1, 1, 1, 1, 1, 1, 1, 1, 1, 1, 1, 1, 1, 1, 1, 1, 1, 1, 1, 1, 1, 1, 1, 1, 1, 1, 1, 1, 1, 1, 1, 1, 1, 1, 1, 1, 1, 1, 1, 2, 1, 1, 1, 1, 1, 1, 1, 1, 1, 1, 1, 1, 1, 1, 1, 1, 1, 1, 1, 1, 0, 2, 1, 1, 1, 1, 1, 1, 1, 1, 1, 1, 1, 1, 1, 1, 1, 1, 1, 1, 1, 1, 1, 1, 1, 1, 1, 1, 1, 1, 1, 1, 1, 1, 1, 1, 1, 1, 1, 1, 1, 1, 1, 1, 1, 1, 1, 1, 1, 1, 1, 1, 1, 1, 0, 1, 1, 1, 1, 1, 1, 1, 1, 1, 1, 1, 1, 1, 1, 1, 1, 2, 2, 2, 2, 2, 2, 2, 2, 2, 1, 2, 2, 2, 2, 2, 1, 2, 2, 0, 2, 2, 2, 2, 2, 2, 2, 2, 1, 2, 1, 2, 2, 2, 2, 2, 2, 2, 2, 3, 2, 2, 2, 2, 2, 3, 2, 1, 2, 2, 2, 2, 2, 2, 1, 1, 2, 2, 2, 2, 0, 2, 2, 2, 2, 2, 2, 1, 2, 2, 2, 2, 2, 2, 2, 1, 2, 2, 2, 2, 1, 2, 2, 2, 2, 2, 2, 2, 2, 2, 2, 2, 2, 2, 2, 2, 1, 2, 2, 2, 2, 2, 2, 2, 2, 2, 2, 2, 2, 2, 2, 2, 2, 2, 2, 2, 2, 2, 2, 2, 2, 2, 2, 0, 2, 2, 2, 2, 2, 1, 2, 2, 2, 2, 2, 2, 2, 2, 2, 1, 2, 2, 2, 3, 2, 2, 2, 2, 2, 2, 2, 2, 2, 2, 2, 2, 2, 2, 2, 2, 2, 2, 2, 2, 2, 2, 2, 2, 2, 2, 2, 2, 2, 2, 1, 2, 2, 1, 2, 2, 2, 2, 2, 2, 2, 2, 2, 2, 2, 2, 2, 2, 2, 2, 2, 2, 2, 2, 2, 2, 1, 2, 2, 2, 2, 2, 2, 2, 2, 2, 2, 2, 2, 2, 2, 2, 2, 2, 2, 1, 1, 2, 2, 2, 2, 2, 2, 2, 2, 2, 2, 2, 3, 2, 2, 2, 2, 1, 2, 2, 2, 2, 2, 2, 2, 2, 2, 2, 2, 2, 2, 2, 2, 2, 2, 2, 2, 2, 2, 2, 2, 2, 2, 2, 2, 2, 2, 2, 2, 2, 2, 2, 2, 2, 2, 2, 2, 2, 2, 1, 2, 2, 2, 2, 2, 2, 2, 2, 2, 2]\n",
    "k_clusters = [0, 0, 0, 0, 0, 0, 0, 0, 0, 0, 0, 0, 0, 0, 0, 0, 0, 0, 0, 0, 0, 0, 0, 0, 0, 0, 0, 0, 0, 0, 0, 0, 0, 0, 0, 0, 0, 0, 0, 0, 0, 0, 0, 0, 0, 0, 0, 0, 0, 0, 0, 0, 0, 0, 0, 0, 0, 0, 0, 0, 0, 0, 1, 0, 0, 0, 0, 0, 0, 0, 0, 0, 0, 0, 0, 0, 0, 0, 0, 0, 0, 0, 0, 0, 0, 0, 0, 0, 0, 0, 0, 0, 0, 0, 0, 0, 0, 0, 0, 0, 0, 0, 0, 0, 0, 0, 0, 0, 0, 0, 0, 0, 0, 0, 0, 0, 0, 0, 0, 0, 0, 0, 0, 0, 0, 0, 0, 0, 0, 3, 3, 3, 3, 3, 3, 3, 3, 3, 3, 3, 3, 3, 3, 3, 3, 3, 3, 3, 3, 3, 3, 3, 3, 3, 3, 3, 3, 3, 3, 3, 3, 3, 3, 3, 3, 3, 3, 3, 3, 3, 2, 3, 3, 3, 3, 3, 3, 3, 3, 3, 3, 3, 1, 3, 3, 3, 3, 3, 3, 3, 3, 3, 3, 3, 3, 1, 2, 1, 1, 1, 1, 2, 1, 1, 1, 1, 1, 1, 1, 1, 1, 3, 1, 1, 1, 1, 1, 1, 1, 1, 1, 1, 1, 1, 1, 2, 1, 1, 1, 1, 1, 3, 1, 1, 1, 1, 1, 1, 1, 1, 1, 1, 1, 1, 1, 1, 1, 1, 1, 3, 1, 1, 1, 3, 1, 1, 3, 3, 1, 1, 3, 1, 1, 0, 1, 1, 2, 1, 1, 1, 3, 0, 1, 2, 1, 1, 1, 1, 2, 1, 1, 3, 1, 1, 1, 1, 1, 1, 1, 1, 1, 1, 1, 1, 1, 1, 1, 1, 1, 1, 1, 1, 1, 1, 1, 1, 1, 3, 1, 1, 1, 1, 1, 1, 1, 1, 1, 1, 1, 1, 1, 1, 1, 1, 1, 1, 1, 3, 2, 1, 1, 1, 1, 1, 1, 1, 1, 1, 1, 1, 1, 1, 2, 1, 1, 1, 1, 1, 1, 3, 1, 1, 1, 1, 1, 1, 1, 1, 1, 1, 1, 1, 1, 1, 1, 1, 1, 1, 2, 1, 1, 1, 2, 1, 1, 1, 1, 1, 1, 3, 1, 2, 1, 1, 1, 1, 1, 1, 1, 1, 1, 1, 1, 1, 1, 2, 1, 1, 1, 1, 1, 1, 1, 1, 1, 1, 3, 1, 2, 1, 1, 1, 1, 1, 1, 1, 1, 0, 1, 1, 1, 1, 1, 1, 2, 1, 1, 1, 1, 1, 1, 1, 1, 1, 1, 1, 1, 1, 1, 1, 1, 1, 1, 1, 1, 1, 1, 1, 0, 1, 1, 1, 1, 1, 1, 1, 3, 1, 1, 1, 1, 1, 1, 1, 1, 1, 1, 1, 1, 1, 1, 1, 1, 2, 1, 1, 1, 1, 1, 1, 1, 1, 1, 1, 1, 1, 1, 1, 1, 1, 1, 1, 1, 1, 1, 1, 1, 1, 1, 1, 1, 1, 1, 1, 1, 1, 1, 1, 1, 1, 1, 1, 1, 1, 1, 1, 1, 1, 1, 1, 1, 1, 1, 1, 1, 1, 1, 1, 1, 1, 1, 1, 1, 3, 1, 1, 1, 1, 1, 1, 1, 1, 1, 1, 1, 1, 1, 1, 1, 1, 1, 1, 1, 1, 1, 1, 1, 1, 1, 1, 1, 1, 1, 1, 1, 1, 1, 1, 1, 1, 1, 1, 1, 1, 1, 1, 1, 1, 1, 1, 1, 1, 1, 1, 1, 1, 1, 1, 1, 1, 1, 1, 1, 1, 1, 1, 1, 1, 1, 1, 1, 1, 1, 1, 1, 1, 1, 1, 1, 1, 1, 1, 1, 1, 1, 1, 1, 1, 1, 1, 1, 1, 1, 1, 1, 1, 1, 1, 1, 1, 1, 1, 2, 1, 1, 1, 1, 1, 1, 1, 1, 1, 1, 1, 1, 1, 1, 1, 1, 1, 1, 1, 1, 0, 2, 1, 1, 1, 1, 1, 1, 1, 1, 1, 1, 1, 1, 1, 1, 1, 1, 1, 1, 1, 1, 1, 1, 1, 1, 1, 1, 1, 1, 1, 1, 1, 1, 1, 1, 1, 1, 1, 1, 1, 1, 1, 1, 1, 1, 1, 1, 1, 1, 1, 1, 1, 1, 0, 1, 1, 1, 1, 1, 1, 1, 1, 1, 1, 1, 1, 1, 1, 1, 1, 2, 2, 2, 2, 2, 2, 2, 2, 2, 1, 2, 2, 2, 2, 2, 1, 2, 2, 0, 2, 2, 2, 2, 2, 2, 2, 2, 1, 2, 1, 2, 2, 2, 2, 2, 2, 2, 2, 3, 2, 2, 2, 2, 2, 3, 2, 1, 2, 2, 2, 2, 2, 2, 1, 1, 2, 2, 2, 2, 0, 2, 2, 2, 2, 2, 2, 1, 2, 2, 2, 2, 2, 2, 2, 1, 2, 2, 2, 2, 1, 2, 2, 2, 2, 2, 2, 2, 2, 2, 2, 2, 2, 2, 2, 2, 1, 2, 2, 2, 2, 2, 2, 2, 2, 2, 2, 2, 2, 2, 2, 2, 2, 2, 2, 2, 2, 2, 2, 2, 2, 2, 2, 0, 2, 2, 2, 2, 2, 1, 2, 2, 2, 2, 2, 2, 2, 2, 2, 1, 2, 2, 2, 3, 2, 2, 2, 2, 2, 2, 2, 2, 2, 2, 2, 2, 2, 2, 2, 2, 2, 2, 2, 2, 2, 2, 2, 2, 2, 2, 2, 2, 2, 2, 1, 2, 2, 1, 2, 2, 2, 2, 2, 2, 2, 2, 2, 2, 2, 2, 2, 2, 2, 2, 2, 2, 2, 2, 2, 2, 1, 2, 2, 2, 2, 2, 2, 2, 2, 2, 2, 2, 2, 2, 2, 2, 2, 2, 2, 1, 1, 2, 2, 2, 2, 2, 2, 2, 2, 2, 2, 2, 3, 2, 2, 2, 2, 1, 2, 2, 2, 2, 2, 2, 2, 2, 2, 2, 2, 2, 2, 2, 2, 2, 2, 2, 2, 2, 2, 2, 2, 2, 2, 2, 2, 2, 2, 2, 2, 2, 2, 2, 2, 2, 2, 2, 2, 2, 2, 1, 2, 2, 2, 2, 2, 2, 2, 2, 2, 2]\n",
    "a_clusters = [0]*129 + [3]*66 + [1]*530 + [2]*288\n",
    "check = []\n",
    "for i,j in zip(k_clusters, a_clusters):\n",
    "    if i == j:\n",
    "        check += [1]\n",
    "    else:\n",
    "        check += [0]"
   ]
  },
  {
   "cell_type": "code",
   "execution_count": 37,
   "metadata": {},
   "outputs": [
    {
     "data": {
      "text/plain": [
       "0.943"
      ]
     },
     "execution_count": 37,
     "metadata": {},
     "output_type": "execute_result"
    }
   ],
   "source": [
    "check.count(1)/1000"
   ]
  },
  {
   "cell_type": "code",
   "execution_count": 35,
   "metadata": {},
   "outputs": [
    {
     "data": {
      "text/plain": [
       "<matplotlib.collections.PathCollection at 0x2be641fd898>"
      ]
     },
     "execution_count": 35,
     "metadata": {},
     "output_type": "execute_result"
    },
    {
     "data": {
      "image/png": "[encoded data removed]",
      "text/plain": [
       "<Figure size 432x288 with 1 Axes>"
      ]
     },
     "metadata": {
      "needs_background": "light"
     },
     "output_type": "display_data"
    }
   ],
   "source": [
    "plt.scatter(range(len(check)),check, s = 2)"
   ]
  },
  {
   "cell_type": "code",
   "execution_count": 28,
   "metadata": {},
   "outputs": [
    {
     "data": {
      "image/png": "[encoded data removed]",
      "text/plain": [
       "<Figure size 432x288 with 1 Axes>"
      ]
     },
     "metadata": {
      "needs_background": "light"
     },
     "output_type": "display_data"
    }
   ],
   "source": [
    "fig = plt.figure()\n",
    "ax1 = fig.add_subplot(111)\n",
    "\n",
    "# can i change y labels to words?\n",
    "\n",
    "plt.scatter(range(len(k_clusters)), k_clusters, s=5, c='r', marker=\"o\", label='K-means')\n",
    "plt.scatter(range(len(a_clusters)), a_clusters, s= 5, c='b', marker=\"o\", label='Actual')\n",
    "\n",
    "# ax1.scatter(x[:4], y[:4], s=10, c='b', marker=\"s\", label='first')\n",
    "# ax1.scatter(x[40:],y[40:], s=10, c='r', marker=\"o\", label='second')\n",
    "plt.legend();\n",
    "plt.show()"
   ]
  },
  {
   "cell_type": "code",
   "execution_count": 14,
   "metadata": {},
   "outputs": [
    {
     "data": {
      "text/plain": [
       "<function matplotlib.pyplot.show(*args, **kw)>"
      ]
     },
     "execution_count": 14,
     "metadata": {},
     "output_type": "execute_result"
    },
    {
     "data": {
      "image/png": "[encoded data removed]",
      "text/plain": [
       "<Figure size 432x288 with 1 Axes>"
      ]
     },
     "metadata": {
      "needs_background": "light"
     },
     "output_type": "display_data"
    }
   ],
   "source": [
    "\n",
    "\n",
    "\n",
    "plt.scatter(range(len(a_clusters)), a_clusters, color='red')\n",
    "plt.scatter(range(len(k_clusters)), k_clusters, color='blue')"
   ]
  }
 ],
 "metadata": {
  "kernelspec": {
   "display_name": "Python 3",
   "language": "python",
   "name": "python3"
  },
  "language_info": {
   "codemirror_mode": {
    "name": "ipython",
    "version": 3
   },
   "file_extension": ".py",
   "mimetype": "text/x-python",
   "name": "python",
   "nbconvert_exporter": "python",
   "pygments_lexer": "ipython3",
   "version": "3.6.7"
  }
 },
 "nbformat": 4,
 "nbformat_minor": 2
}
